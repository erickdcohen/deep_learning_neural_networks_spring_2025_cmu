{
  "cells": [
    {
      "cell_type": "markdown",
      "metadata": {
        "id": "b1_q-Dcab0Q7"
      },
      "source": [
        "# PyTorch Geometric and NetworkX tutorial"
      ]
    },
    {
      "cell_type": "markdown",
      "metadata": {
        "id": "lgaksQC8b0RK"
      },
      "source": [
        "# Installation\n",
        "\n",
        "- PyTorch Geometric (PyG) installationn [link](https://pytorch-geometric.readthedocs.io/en/latest/install/installation.html#quick-start)\n",
        "- Deep Graph Library (DGL) installation [link](https://www.dgl.ai/pages/start.html)\n",
        "- Networkx installation [link](https://networkx.org/documentation/stable/install.html)\n",
        "\n",
        "DGL supports PyTorch, Tensorflow and MXNet; PyG supports PyTorch."
      ]
    },
    {
      "cell_type": "code",
      "source": [
        "!pip install torch_geometric"
      ],
      "metadata": {
        "colab": {
          "base_uri": "https://localhost:8080/"
        },
        "id": "1beVo97q42-V",
        "outputId": "331e144b-695f-4958-9117-45707f4f7215"
      },
      "execution_count": 1,
      "outputs": [
        {
          "output_type": "stream",
          "name": "stdout",
          "text": [
            "Collecting torch_geometric\n",
            "  Downloading torch_geometric-2.6.1-py3-none-any.whl.metadata (63 kB)\n",
            "\u001b[?25l     \u001b[90m━━━━━━━━━━━━━━━━━━━━━━━━━━━━━━━━━━━━━━━━\u001b[0m \u001b[32m0.0/63.1 kB\u001b[0m \u001b[31m?\u001b[0m eta \u001b[36m-:--:--\u001b[0m\r\u001b[2K     \u001b[90m━━━━━━━━━━━━━━━━━━━━━━━━━━━━━━━━━━━━━━━━\u001b[0m \u001b[32m63.1/63.1 kB\u001b[0m \u001b[31m1.7 MB/s\u001b[0m eta \u001b[36m0:00:00\u001b[0m\n",
            "\u001b[?25hRequirement already satisfied: aiohttp in /usr/local/lib/python3.11/dist-packages (from torch_geometric) (3.11.15)\n",
            "Requirement already satisfied: fsspec in /usr/local/lib/python3.11/dist-packages (from torch_geometric) (2025.3.2)\n",
            "Requirement already satisfied: jinja2 in /usr/local/lib/python3.11/dist-packages (from torch_geometric) (3.1.6)\n",
            "Requirement already satisfied: numpy in /usr/local/lib/python3.11/dist-packages (from torch_geometric) (2.0.2)\n",
            "Requirement already satisfied: psutil>=5.8.0 in /usr/local/lib/python3.11/dist-packages (from torch_geometric) (5.9.5)\n",
            "Requirement already satisfied: pyparsing in /usr/local/lib/python3.11/dist-packages (from torch_geometric) (3.2.3)\n",
            "Requirement already satisfied: requests in /usr/local/lib/python3.11/dist-packages (from torch_geometric) (2.32.3)\n",
            "Requirement already satisfied: tqdm in /usr/local/lib/python3.11/dist-packages (from torch_geometric) (4.67.1)\n",
            "Requirement already satisfied: aiohappyeyeballs>=2.3.0 in /usr/local/lib/python3.11/dist-packages (from aiohttp->torch_geometric) (2.6.1)\n",
            "Requirement already satisfied: aiosignal>=1.1.2 in /usr/local/lib/python3.11/dist-packages (from aiohttp->torch_geometric) (1.3.2)\n",
            "Requirement already satisfied: attrs>=17.3.0 in /usr/local/lib/python3.11/dist-packages (from aiohttp->torch_geometric) (25.3.0)\n",
            "Requirement already satisfied: frozenlist>=1.1.1 in /usr/local/lib/python3.11/dist-packages (from aiohttp->torch_geometric) (1.5.0)\n",
            "Requirement already satisfied: multidict<7.0,>=4.5 in /usr/local/lib/python3.11/dist-packages (from aiohttp->torch_geometric) (6.2.0)\n",
            "Requirement already satisfied: propcache>=0.2.0 in /usr/local/lib/python3.11/dist-packages (from aiohttp->torch_geometric) (0.3.1)\n",
            "Requirement already satisfied: yarl<2.0,>=1.17.0 in /usr/local/lib/python3.11/dist-packages (from aiohttp->torch_geometric) (1.18.3)\n",
            "Requirement already satisfied: MarkupSafe>=2.0 in /usr/local/lib/python3.11/dist-packages (from jinja2->torch_geometric) (3.0.2)\n",
            "Requirement already satisfied: charset-normalizer<4,>=2 in /usr/local/lib/python3.11/dist-packages (from requests->torch_geometric) (3.4.1)\n",
            "Requirement already satisfied: idna<4,>=2.5 in /usr/local/lib/python3.11/dist-packages (from requests->torch_geometric) (3.10)\n",
            "Requirement already satisfied: urllib3<3,>=1.21.1 in /usr/local/lib/python3.11/dist-packages (from requests->torch_geometric) (2.3.0)\n",
            "Requirement already satisfied: certifi>=2017.4.17 in /usr/local/lib/python3.11/dist-packages (from requests->torch_geometric) (2025.1.31)\n",
            "Downloading torch_geometric-2.6.1-py3-none-any.whl (1.1 MB)\n",
            "\u001b[2K   \u001b[90m━━━━━━━━━━━━━━━━━━━━━━━━━━━━━━━━━━━━━━━━\u001b[0m \u001b[32m1.1/1.1 MB\u001b[0m \u001b[31m8.2 MB/s\u001b[0m eta \u001b[36m0:00:00\u001b[0m\n",
            "\u001b[?25hInstalling collected packages: torch_geometric\n",
            "Successfully installed torch_geometric-2.6.1\n"
          ]
        }
      ]
    },
    {
      "cell_type": "markdown",
      "metadata": {
        "id": "z-DcCMtpb0RN"
      },
      "source": [
        "# The `Data` object\n",
        "\n",
        "A graph is used to model pairwise relations (edges) between objects (nodes). A single graph in PyG is described by an instance of `torch_geometric.data.Data`, which holds the following attributes by default:\n",
        "\n",
        "- `data.x`: Node feature matrix with shape [num_nodes, num_node_features]\n",
        "- `data.edge_index`: Graph connectivity table with shape [2, num_edges] and type torch.long\n",
        "- `data.edge_attr`: Edge feature matrix with shape [num_edges, num_edge_features]\n",
        "- `data.y`: Target to train against (may have arbitrary shape), e.g., node-level targets of shape [num_nodes, *] or graph-level targets of shape [1, *]\n",
        "- `data.pos`: Node position matrix with shape [num_nodes, num_dimensions]\n",
        "\n",
        "Generally, the most import attribures are `data.x`, `data.edge_index` and `data.y`.\n",
        "\n",
        "Let's construct an simple undirected graph as an example:"
      ]
    },
    {
      "cell_type": "code",
      "execution_count": 2,
      "metadata": {
        "colab": {
          "base_uri": "https://localhost:8080/"
        },
        "id": "w0y_7PFNb0RP",
        "outputId": "97bff2c8-fb66-4cb0-c119-338ac946f942"
      },
      "outputs": [
        {
          "output_type": "stream",
          "name": "stdout",
          "text": [
            "Data(x=[3, 1], edge_index=[2, 4])\n"
          ]
        }
      ],
      "source": [
        "import torch\n",
        "from torch_geometric.data import Data\n",
        "\n",
        "edge_index = torch.tensor([[0, 1, 1, 2],\n",
        "                           [1, 0, 2, 1]], dtype=torch.long)\n",
        "x = torch.tensor([[-1], [0], [1]], dtype=torch.float)\n",
        "\n",
        "data = Data(x=x, edge_index=edge_index)\n",
        "print(data)"
      ]
    },
    {
      "cell_type": "markdown",
      "metadata": {
        "id": "H9nE3__Yb0RW"
      },
      "source": [
        "![](2023-04-18-23-43-17.png)"
      ]
    },
    {
      "cell_type": "code",
      "execution_count": 4,
      "metadata": {
        "colab": {
          "base_uri": "https://localhost:8080/"
        },
        "id": "6aE-jX0qb0RX",
        "outputId": "ea75338c-a8c2-4e59-f70c-4e46668a7be5"
      },
      "outputs": [
        {
          "output_type": "stream",
          "name": "stdout",
          "text": [
            "tensor([[-1.],\n",
            "        [ 0.],\n",
            "        [ 1.]])\n",
            "False\n",
            "num_nodes: 3\n",
            "num_node_features:  1\n",
            "num_edges:  4\n",
            "num_edge_features:  0\n",
            "False\n",
            "True\n"
          ]
        }
      ],
      "source": [
        "# many attributes\n",
        "print(data['x'])\n",
        "print('edge_attr' in data)\n",
        "print('num_nodes:', data.num_nodes)\n",
        "print('num_node_features: ', data.num_node_features)\n",
        "print('num_edges: ', data.num_edges)\n",
        "print('num_edge_features: ', data.num_edge_features)\n",
        "print(data.is_directed())\n",
        "print(data.is_undirected())"
      ]
    },
    {
      "cell_type": "markdown",
      "metadata": {
        "id": "Ved_LJuOb0Ra"
      },
      "source": [
        "# Common tasks\n",
        "\n",
        "Some common tasks that GNNs can be used for are:\n",
        "\n",
        "- Node classification: predicting the labels or properties of individual nodes in a graph.\n",
        "\n",
        "- Link prediction: predicting the presence or absence of links between pairs of nodes in a graph.\n",
        "\n",
        "- Graph classification/regression: predicting the label or property of an entire graph.\n",
        "\n",
        "- Graph clustering: identifying groups of nodes in a graph that are similar or connected in some way.\n",
        "\n",
        "- Graph generation: generating new graphs that have similar characteristics to a set of input graphs."
      ]
    },
    {
      "cell_type": "markdown",
      "metadata": {
        "id": "oCxibMSlb0Rc"
      },
      "source": [
        "# Databatch\n",
        "\n",
        "Neural networks are usually trained in a batch-wise fashion. PyG achieves parallelization over a mini-batch by creating sparse block diagonal adjacency matrices (defined by edge_index) and concatenating feature and target matrices in the node dimension. This composition allows differing number of nodes and edges over examples in one batch:\n",
        "![](2023-04-19-00-17-25.png)"
      ]
    },
    {
      "cell_type": "code",
      "execution_count": 5,
      "metadata": {
        "colab": {
          "base_uri": "https://localhost:8080/"
        },
        "id": "jJ6df_Egb0Rf",
        "outputId": "ec5859dc-475a-4bb4-fddc-7f99595a0b75"
      },
      "outputs": [
        {
          "output_type": "stream",
          "name": "stderr",
          "text": [
            "Downloading https://www.chrsmrrs.com/graphkerneldatasets/ENZYMES.zip\n",
            "Processing...\n"
          ]
        },
        {
          "output_type": "stream",
          "name": "stdout",
          "text": [
            "DataBatch(edge_index=[2, 3922], x=[1020, 21], y=[32], batch=[1020], ptr=[33])\n",
            "32\n",
            "tensor([ 0,  0,  0,  ..., 31, 31, 31])\n"
          ]
        },
        {
          "output_type": "stream",
          "name": "stderr",
          "text": [
            "Done!\n"
          ]
        }
      ],
      "source": [
        "from torch_geometric.datasets import TUDataset   # https://chrsmrrs.github.io/datasets/\n",
        "from torch_geometric.loader import DataLoader\n",
        "\n",
        "dataset = TUDataset(root='/tmp/ENZYMES', name='ENZYMES', use_node_attr=True)\n",
        "loader = DataLoader(dataset, batch_size=32, shuffle=True)\n",
        "\n",
        "for data in loader:\n",
        "    print(data)\n",
        "    print(data.num_graphs)\n",
        "    print(data.batch)  # very important to keep track of the belongings of nodes\n",
        "    break"
      ]
    },
    {
      "cell_type": "code",
      "execution_count": 6,
      "metadata": {
        "colab": {
          "base_uri": "https://localhost:8080/"
        },
        "id": "kMjrJnfmb0Rh",
        "outputId": "fead2d5b-03df-4f40-a054-a29f6d59b3a7"
      },
      "outputs": [
        {
          "output_type": "stream",
          "name": "stdout",
          "text": [
            "DataBatch(edge_index=[2, 140], num_nodes=29, x=[29, 10], y=[4], batch=[29], ptr=[5])\n",
            "4\n",
            "tensor([0, 0, 0, 0, 0, 0, 0, 1, 1, 1, 1, 1, 1, 1, 1, 1, 2, 2, 2, 2, 2, 2, 2, 2,\n",
            "        2, 3, 3, 3, 3])\n"
          ]
        }
      ],
      "source": [
        "import torch\n",
        "import networkx as nx\n",
        "from torch_geometric.data import Data\n",
        "from torch_geometric.utils import from_networkx\n",
        "import random\n",
        "\n",
        "random_graphs = []\n",
        "\n",
        "for _ in range(10):\n",
        "    # create a random graph using NetworkX\n",
        "    num_nodes = random.randint(4, 10)\n",
        "    num_edges = random.randint(15, 25)\n",
        "    G = nx.gnm_random_graph(num_nodes, num_edges)\n",
        "\n",
        "    # make the graph undirected\n",
        "    G = G.to_undirected()\n",
        "\n",
        "    # convert the NetworkX graph to a PyTorch Geometric graph\n",
        "    data = from_networkx(G)\n",
        "\n",
        "    # assign a feature vector of length 10 to each node\n",
        "    num_features = 10\n",
        "    node_features = torch.randn(num_nodes, num_features)\n",
        "    data.x = node_features\n",
        "\n",
        "    # assign a binary label (0 or 1) to each graph\n",
        "    label = random.choice([0, 1])\n",
        "    data.y = torch.tensor([label], dtype=torch.long)\n",
        "\n",
        "    # add the graph to the list of random graphs\n",
        "    random_graphs.append(data)\n",
        "\n",
        "loader = DataLoader(random_graphs, batch_size=4)\n",
        "for data in loader:\n",
        "    print(data)\n",
        "    print(data.num_graphs)\n",
        "    print(data.batch)  # very important to keep track of the belongings of nodes\n",
        "    break"
      ]
    },
    {
      "cell_type": "markdown",
      "metadata": {
        "id": "ymt0B1kCb0Rj"
      },
      "source": [
        "# Learning Methods on Graphs"
      ]
    },
    {
      "cell_type": "code",
      "execution_count": 7,
      "metadata": {
        "colab": {
          "base_uri": "https://localhost:8080/"
        },
        "id": "Gxx5QhrJb0Rk",
        "outputId": "7ec80cb0-c72a-473a-a833-c5992d6da158"
      },
      "outputs": [
        {
          "output_type": "stream",
          "name": "stderr",
          "text": [
            "Downloading https://github.com/kimiyoung/planetoid/raw/master/data/ind.cora.x\n",
            "Downloading https://github.com/kimiyoung/planetoid/raw/master/data/ind.cora.tx\n",
            "Downloading https://github.com/kimiyoung/planetoid/raw/master/data/ind.cora.allx\n",
            "Downloading https://github.com/kimiyoung/planetoid/raw/master/data/ind.cora.y\n",
            "Downloading https://github.com/kimiyoung/planetoid/raw/master/data/ind.cora.ty\n",
            "Downloading https://github.com/kimiyoung/planetoid/raw/master/data/ind.cora.ally\n",
            "Downloading https://github.com/kimiyoung/planetoid/raw/master/data/ind.cora.graph\n",
            "Downloading https://github.com/kimiyoung/planetoid/raw/master/data/ind.cora.test.index\n",
            "Processing...\n",
            "Done!\n"
          ]
        }
      ],
      "source": [
        "# first load the Cora dataset\n",
        "# node classification\n",
        "\n",
        "from torch_geometric.datasets import Planetoid\n",
        "\n",
        "dataset = Planetoid(root='/tmp/Cora', name='Cora')"
      ]
    },
    {
      "cell_type": "markdown",
      "metadata": {
        "id": "1-kf3zKGb0Rl"
      },
      "source": [
        "The constructor defines two GCNConv layers which get called in the forward pass of our network. Note that the non-linearity is not integrated in the conv calls and hence needs to be applied afterwards (something which is consistent across all operators in PyG). Here, we chose to use ReLU as our intermediate non-linearity and finally output a softmax distribution over the number of classes.\n",
        "\n",
        "- [Here](https://pytorch-geometric.readthedocs.io/en/latest/modules/nn.html) is a list of all graph convolutional layers;\n",
        "- Different [aggregation operations](https://pytorch-geometric.readthedocs.io/en/latest/modules/nn.html#aggregation-operators) could boost the performance;"
      ]
    },
    {
      "cell_type": "code",
      "execution_count": 8,
      "metadata": {
        "id": "gP4NDK2tb0Rm"
      },
      "outputs": [],
      "source": [
        "import torch\n",
        "import torch.nn.functional as F\n",
        "from torch_geometric.nn import GCNConv\n",
        "\n",
        "class GCN(torch.nn.Module):\n",
        "    def __init__(self):\n",
        "        super().__init__()\n",
        "        self.conv1 = GCNConv(dataset.num_node_features, 16)\n",
        "        self.conv2 = GCNConv(16, dataset.num_classes)\n",
        "\n",
        "    def forward(self, data):\n",
        "        x, edge_index = data.x, data.edge_index\n",
        "\n",
        "        x = self.conv1(x, edge_index)\n",
        "        x = F.relu(x)\n",
        "        x = F.dropout(x, training=self.training)\n",
        "        x = self.conv2(x, edge_index)\n",
        "\n",
        "        return F.log_softmax(x, dim=1)"
      ]
    },
    {
      "cell_type": "code",
      "source": [
        "dataset[0]"
      ],
      "metadata": {
        "colab": {
          "base_uri": "https://localhost:8080/"
        },
        "id": "R5k16Qzxm_Ld",
        "outputId": "665cb4cb-0bbf-4926-eb10-43d1ed71dc56"
      },
      "execution_count": 9,
      "outputs": [
        {
          "output_type": "execute_result",
          "data": {
            "text/plain": [
              "Data(x=[2708, 1433], edge_index=[2, 10556], y=[2708], train_mask=[2708], val_mask=[2708], test_mask=[2708])"
            ]
          },
          "metadata": {},
          "execution_count": 9
        }
      ]
    },
    {
      "cell_type": "code",
      "execution_count": 10,
      "metadata": {
        "colab": {
          "base_uri": "https://localhost:8080/"
        },
        "id": "wnrmwXhBb0Rn",
        "outputId": "dbfa248c-1c34-417c-acc7-5ea41e653d5f"
      },
      "outputs": [
        {
          "output_type": "stream",
          "name": "stdout",
          "text": [
            "1.946556568145752\n",
            "1.823211908340454\n",
            "1.6865142583847046\n",
            "1.5434805154800415\n",
            "1.3955645561218262\n",
            "1.2737971544265747\n",
            "1.1329116821289062\n",
            "1.0289424657821655\n",
            "0.9183103442192078\n",
            "0.8267108798027039\n"
          ]
        }
      ],
      "source": [
        "device = torch.device('cuda' if torch.cuda.is_available() else 'cpu')\n",
        "model = GCN().to(device)\n",
        "data = dataset[0].to(device)\n",
        "optimizer = torch.optim.Adam(model.parameters(), lr=0.01, weight_decay=5e-4)\n",
        "\n",
        "model.train()\n",
        "for epoch in range(10):\n",
        "    optimizer.zero_grad()\n",
        "    out = model(data)\n",
        "    loss = F.nll_loss(out[data.train_mask], data.y[data.train_mask])\n",
        "    loss.backward()\n",
        "    optimizer.step()\n",
        "    print(loss.item())"
      ]
    },
    {
      "cell_type": "code",
      "execution_count": 11,
      "metadata": {
        "colab": {
          "base_uri": "https://localhost:8080/"
        },
        "id": "5hszW7ggb0Rp",
        "outputId": "214dad42-022f-437c-bf8f-c8f401c3b291"
      },
      "outputs": [
        {
          "output_type": "stream",
          "name": "stdout",
          "text": [
            "Accuracy: 0.7840\n"
          ]
        }
      ],
      "source": [
        "model.eval()\n",
        "pred = model(data).argmax(dim=1)\n",
        "correct = (pred[data.test_mask] == data.y[data.test_mask]).sum()\n",
        "acc = int(correct) / int(data.test_mask.sum())\n",
        "print(f'Accuracy: {acc:.4f}')"
      ]
    },
    {
      "cell_type": "markdown",
      "metadata": {
        "id": "To5EuR3Gb0Rq"
      },
      "source": [
        "# Visualizing a graph with NetworkX\n",
        "\n",
        "[NetworkX](https://networkx.org/) is a Python package used for the creation, manipulation, and study of complex networks or graphs. It provides a variety of tools for working with graph data structures, including algorithms for analyzing graphs, creating random graphs, and visualizing graphs."
      ]
    },
    {
      "cell_type": "code",
      "execution_count": 12,
      "metadata": {
        "colab": {
          "base_uri": "https://localhost:8080/",
          "height": 516
        },
        "id": "DLnckZzgb0Rr",
        "outputId": "55156957-8549-4631-e648-05296550fab3"
      },
      "outputs": [
        {
          "output_type": "display_data",
          "data": {
            "text/plain": [
              "<Figure size 640x480 with 1 Axes>"
            ],
            "image/png": "[encoded data removed]"
          },
          "metadata": {}
        }
      ],
      "source": [
        "import torch\n",
        "from torch_geometric.data import Data\n",
        "import networkx as nx\n",
        "import matplotlib.pyplot as plt\n",
        "\n",
        "# create a PyTorch Geometric graph (you can replace this with your graph)\n",
        "edges = [(0, 1), (1, 2), (2, 0), (2, 3), (3, 4), (4, 5), (5, 2)]\n",
        "edge_index = torch.tensor(edges, dtype=torch.long).t().contiguous()\n",
        "data = Data(edge_index=edge_index)\n",
        "\n",
        "# convert the PyTorch Geometric graph to a NetworkX graph\n",
        "G = nx.DiGraph(data.edge_index.t().tolist())\n",
        "\n",
        "# visualize the NetworkX graph\n",
        "pos = nx.spring_layout(G, seed=42)\n",
        "nx.draw(G, pos, with_labels=True, node_color='lightblue', node_size=800)\n",
        "nx.draw_networkx_edge_labels(G, pos, edge_labels={(u, v): f'{u}-{v}' for u, v in G.edges()})\n",
        "plt.show()"
      ]
    },
    {
      "cell_type": "markdown",
      "metadata": {
        "id": "VmKeHPEYb0Rs"
      },
      "source": [
        "A complete list of `Data` attributes can be found [here](https://pytorch-geometric.readthedocs.io/en/latest/generated/torch_geometric.data.Data.html#torch_geometric.data.Data)"
      ]
    },
    {
      "cell_type": "markdown",
      "metadata": {
        "id": "jjkuW6Rhb0Rt"
      },
      "source": [
        "# Reference\n",
        "- PyG tutorial: https://pytorch-geometric.readthedocs.io/en/latest/get_started/introduction.html\n",
        "- NetworkX tutorial: https://networkx.org/documentation/stable/tutorial.html"
      ]
    }
  ],
  "metadata": {
    "kernelspec": {
      "display_name": "py39",
      "language": "python",
      "name": "python3"
    },
    "language_info": {
      "codemirror_mode": {
        "name": "ipython",
        "version": 3
      },
      "file_extension": ".py",
      "mimetype": "text/x-python",
      "name": "python",
      "nbconvert_exporter": "python",
      "pygments_lexer": "ipython3",
      "version": "3.9.13"
    },
    "orig_nbformat": 4,
    "colab": {
      "provenance": []
    }
  },
  "nbformat": 4,
  "nbformat_minor": 0
}