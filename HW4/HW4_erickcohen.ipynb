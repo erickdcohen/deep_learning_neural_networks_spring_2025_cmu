{
  "cells": [
    {
      "cell_type": "markdown",
      "metadata": {},
      "source": [
        "# Homework 04 Graph Convolutional Neural Networks\n"
      ]
    },
    {
      "cell_type": "code",
      "execution_count": 7,
      "metadata": {
        "id": "6z5zXzc2-ZOD"
      },
      "outputs": [],
      "source": [
        "import pandas as pd\n",
        "import torch\n",
        "import torch.nn.functional as F\n",
        "from torch.nn import Linear, ReLU, Sequential\n",
        "from torch_geometric.data import Dataset\n",
        "from torch_geometric.loader import DataLoader"
      ]
    },
    {
      "cell_type": "markdown",
      "metadata": {
        "id": "JrdqqRyp-ZOE"
      },
      "source": [
        "## Part I. The training and testing dataset are provided\n",
        "\n",
        "- The train and test datasets were pre-processed graphs. The train dataset contains 20,000 graphs, while the test dataset contains 2,000 graphs.\n",
        "- Each graph contains the following components:\n",
        "\n",
        "  - `x`, the matrix containing node features, `[num_of_nodes, num_node_features=11]`\n",
        "  - `edge_index`, the matrix containing connection information about different nodes, `[2, num_of_edges]`\n",
        "  - `y`, the label for the graph, `scaler`. The value is set to `0` in the test dataset\n",
        "  - `pos`, the matrix containing the node positions, `[num_of_nodes, 3]`\n",
        "  - `edge_attr`, the matrix containing the edge information, `[num_edges, 4]`\n",
        "  - `names`, index for the graph. For example, `gdb_59377`\n",
        "\n",
        "- Depending on the graph convolutional layer that is used, different components are needed. For the most basic application, `x`, `edge_index` and `y` will be used.\n"
      ]
    },
    {
      "cell_type": "code",
      "execution_count": 8,
      "metadata": {
        "id": "4uVaHtpZ8nwV"
      },
      "outputs": [],
      "source": [
        "class QM_Dataset(Dataset):\n",
        "    def __init__(self, path):\n",
        "        super().__init__(root=\".\")\n",
        "        self.data = torch.load(path, weights_only=False)\n",
        "\n",
        "    def len(self):\n",
        "        return len(self.data)\n",
        "\n",
        "    def get(self, idx):\n",
        "        return self.data[idx]\n",
        "\n",
        "\n",
        "train_path = \"data/train.pt\"\n",
        "test_path = \"data/test.pt\"\n",
        "\n",
        "train_data_ = QM_Dataset(train_path)\n",
        "\n",
        "# train dataset can be split for validation purposes\n",
        "train_data, validate_data = torch.utils.data.random_split(train_data_, [\n",
        "                                                          19000, 1000])\n",
        "test_data = QM_Dataset(test_path)"
      ]
    },
    {
      "cell_type": "markdown",
      "metadata": {
        "id": "PMYYRRR0-ZOG"
      },
      "source": [
        "## Part II. Example solution\n"
      ]
    },
    {
      "cell_type": "code",
      "execution_count": 9,
      "metadata": {
        "id": "uPg-AIWd-ZOG"
      },
      "outputs": [],
      "source": [
        "# define the network\n",
        "# many convolutional layers are available in torch_geometric.nn\n",
        "# here NNConv is just used as an example\n",
        "\n",
        "from torch_geometric.nn import NNConv, Set2Set\n",
        "\n",
        "\n",
        "class Net(torch.nn.Module):\n",
        "    def __init__(self, num_features=11, dim=64):\n",
        "        super().__init__()\n",
        "        self.lin0 = torch.nn.Linear(num_features, dim)\n",
        "        nn = Sequential(Linear(4, 128), ReLU(), Linear(128, dim * dim))\n",
        "        # replace with your own convolutional layers here\n",
        "        self.conv = NNConv(dim, dim, nn, aggr='mean')\n",
        "        # set2set is used to map from nodes to graphs\n",
        "        self.set2set = Set2Set(dim, processing_steps=3)\n",
        "        self.lin1 = torch.nn.Linear(2 * dim, dim)\n",
        "        self.lin2 = torch.nn.Linear(dim, 1)\n",
        "\n",
        "    def forward(self, data):\n",
        "        # data.x size [batch_num_nodes, num_node_features]\n",
        "        out = F.relu(self.lin0(data.x))\n",
        "        for _ in range(3):\n",
        "            out = F.relu(self.conv(out, data.edge_index, data.edge_attr))\n",
        "        # [batch_num_nodes, dim] ==> [batch_num_graphs, dim*2]\n",
        "        out = self.set2set(out, data.batch)\n",
        "        out = F.relu(self.lin1(out))\n",
        "        out = self.lin2(out)\n",
        "        return out.view(-1)"
      ]
    },
    {
      "cell_type": "code",
      "execution_count": 10,
      "metadata": {},
      "outputs": [],
      "source": [
        "# load the datasets\n",
        "train_loader = DataLoader(train_data, batch_size=128)\n",
        "validate_loader = DataLoader(validate_data, batch_size=128)\n",
        "test_loader = DataLoader(test_data, batch_size=8)\n",
        "\n",
        "device = torch.device(\"cuda:0\" if torch.cuda.is_available() else \"cpu\")\n",
        "model = Net().to(device)\n",
        "optimizer = torch.optim.Adam(model.parameters(), lr=0.00005)"
      ]
    },
    {
      "cell_type": "code",
      "execution_count": 13,
      "metadata": {
        "id": "eumyKXt1-ZOH"
      },
      "outputs": [],
      "source": [
        "criterion = torch.nn.L1Loss()\n",
        "\n",
        "# define training and evaluation functions\n",
        "\n",
        "\n",
        "def train(loader):\n",
        "    \"\"\"Takes in training dataset loader,\n",
        "    train the model one step,\n",
        "    update the parameters,\n",
        "    return the current loss\"\"\"\n",
        "\n",
        "    model.train()\n",
        "    for data in loader:\n",
        "        # move to device\n",
        "        data = data.to(device)\n",
        "        # train model single forward pass\n",
        "        out = model(data)\n",
        "        # calculate loss\n",
        "        loss = criterion(out, data.y)\n",
        "        # gradients\n",
        "        loss.backward()\n",
        "        # optimizer step\n",
        "        optimizer.step()\n",
        "        optimizer.zero_grad()\n",
        "\n",
        "    return loss\n",
        "\n",
        "\n",
        "def eval(loader, model):\n",
        "    \"\"\"Takes the validation dataset loader,\n",
        "    return the validation MAE\"\"\"\n",
        "\n",
        "    model.eval()\n",
        "    for data in loader:\n",
        "        # move to device also\n",
        "        data = data.to(device)\n",
        "        out = model(data)\n",
        "        loss = criterion(out, data.y)\n",
        "        return loss"
      ]
    },
    {
      "cell_type": "code",
      "execution_count": null,
      "metadata": {
        "id": "kyAA9GLE-ZOJ"
      },
      "outputs": [
        {
          "name": "stdout",
          "output_type": "stream",
          "text": [
            "epoch: $1 -- train_loss: $0.9774715900421143 -- val_loss: $0.8649500608444214\n",
            "epoch: $2 -- train_loss: $0.9523863792419434 -- val_loss: $0.8469842672348022\n",
            "epoch: $3 -- train_loss: $0.9337181448936462 -- val_loss: $0.8378925323486328\n",
            "epoch: $4 -- train_loss: $0.9118258357048035 -- val_loss: $0.8226449489593506\n"
          ]
        }
      ],
      "source": [
        "# training\n",
        "num_epochs = 5\n",
        "for epoch in range(1, num_epochs):\n",
        "    \"\"\"Calculate loss and\n",
        "    validation MAE\"\"\"\n",
        "    train(train_loader)\n",
        "\n",
        "    train_loss = eval(train_loader, model=model)\n",
        "    val_loss = eval(validate_loader, model=model)\n",
        "    print(\n",
        "        f\"epoch: {epoch} -- train_loss: {train_loss} -- val_loss: {val_loss}\")"
      ]
    },
    {
      "cell_type": "code",
      "execution_count": 18,
      "metadata": {
        "id": "ykihqvj1-ZOK"
      },
      "outputs": [],
      "source": [
        "# predict\n",
        "model.eval()\n",
        "y_pred = []\n",
        "Idx = []\n",
        "\n",
        "with torch.no_grad():\n",
        "    for data in test_loader:\n",
        "        \"\"\"Predict and save graph index and\n",
        "        predicted y value\"\"\"\n",
        "\n",
        "        # send data to device\n",
        "        data = data.to(device)\n",
        "\n",
        "        # get preds\n",
        "        pred = model(data)\n",
        "\n",
        "        # move pred back to cpu for numpy/storage\n",
        "        pred = pred.detach().cpu().numpy()\n",
        "\n",
        "        # add pred to y_pred\n",
        "        y_pred.extend(pred)\n",
        "\n",
        "        # get graph indecies\n",
        "        Idx.extend([data_item.name for data_item in data.to_data_list()])\n",
        "\n",
        "assert (len(Idx) == len(y_pred))\n",
        "\n",
        "df = pd.DataFrame({\"Idx\": Idx, \"labels\": y_pred})"
      ]
    },
    {
      "cell_type": "code",
      "execution_count": 19,
      "metadata": {
        "id": "Ib5a1tFn-ZOK"
      },
      "outputs": [],
      "source": [
        "# upload solution\n",
        "df.columns = ['Idx', 'labels']\n",
        "df.to_csv(\"data/submission1.csv\", index=False)"
      ]
    }
  ],
  "metadata": {
    "colab": {
      "provenance": []
    },
    "kernelspec": {
      "display_name": ".venv",
      "language": "python",
      "name": "python3"
    },
    "language_info": {
      "codemirror_mode": {
        "name": "ipython",
        "version": 3
      },
      "file_extension": ".py",
      "mimetype": "text/x-python",
      "name": "python",
      "nbconvert_exporter": "python",
      "pygments_lexer": "ipython3",
      "version": "3.12.6"
    },
    "orig_nbformat": 4
  },
  "nbformat": 4,
  "nbformat_minor": 0
}
