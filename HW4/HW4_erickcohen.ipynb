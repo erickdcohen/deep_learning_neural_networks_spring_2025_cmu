{
  "cells": [
    {
      "cell_type": "markdown",
      "metadata": {},
      "source": [
        "# Homework 04 Graph Convolutional Neural Networks\n"
      ]
    },
    {
      "cell_type": "code",
      "execution_count": 1,
      "metadata": {
        "id": "6z5zXzc2-ZOD"
      },
      "outputs": [],
      "source": [
        "import pandas as pd\n",
        "import torch\n",
        "import torch.nn.functional as F\n",
        "from torch.nn import Linear, ReLU, Sequential\n",
        "from torch_geometric.data import Dataset\n",
        "from torch_geometric.loader import DataLoader"
      ]
    },
    {
      "cell_type": "markdown",
      "metadata": {
        "id": "JrdqqRyp-ZOE"
      },
      "source": [
        "## Part I. The training and testing dataset are provided\n",
        "\n",
        "- The train and test datasets were pre-processed graphs. The train dataset contains 20,000 graphs, while the test dataset contains 2,000 graphs.\n",
        "- Each graph contains the following components:\n",
        "\n",
        "  - `x`, the matrix containing node features, `[num_of_nodes, num_node_features=11]`\n",
        "  - `edge_index`, the matrix containing connection information about different nodes, `[2, num_of_edges]`\n",
        "  - `y`, the label for the graph, `scaler`. The value is set to `0` in the test dataset\n",
        "  - `pos`, the matrix containing the node positions, `[num_of_nodes, 3]`\n",
        "  - `edge_attr`, the matrix containing the edge information, `[num_edges, 4]`\n",
        "  - `names`, index for the graph. For example, `gdb_59377`\n",
        "\n",
        "- Depending on the graph convolutional layer that is used, different components are needed. For the most basic application, `x`, `edge_index` and `y` will be used.\n"
      ]
    },
    {
      "cell_type": "code",
      "execution_count": 2,
      "metadata": {
        "id": "4uVaHtpZ8nwV"
      },
      "outputs": [],
      "source": [
        "class QM_Dataset(Dataset):\n",
        "    def __init__(self, path):\n",
        "        super().__init__(root=\".\")\n",
        "        self.data = torch.load(path, weights_only=False)\n",
        "\n",
        "    def len(self):\n",
        "        return len(self.data)\n",
        "\n",
        "    def get(self, idx):\n",
        "        return self.data[idx]\n",
        "\n",
        "\n",
        "train_path = \"data/train.pt\"\n",
        "test_path = \"data/test.pt\"\n",
        "\n",
        "train_data_ = QM_Dataset(train_path)\n",
        "\n",
        "# train dataset can be split for validation purposes\n",
        "train_data, validate_data = torch.utils.data.random_split(train_data_, [\n",
        "                                                          19000, 1000])\n",
        "test_data = QM_Dataset(test_path)"
      ]
    },
    {
      "cell_type": "markdown",
      "metadata": {
        "id": "PMYYRRR0-ZOG"
      },
      "source": [
        "## Part II. Example solution\n"
      ]
    },
    {
      "cell_type": "code",
      "execution_count": null,
      "metadata": {
        "id": "uPg-AIWd-ZOG"
      },
      "outputs": [],
      "source": [
        "# define the network\n",
        "# many convolutional layers are available in torch_geometric.nn\n",
        "# here NNConv is just used as an example\n",
        "\n",
        "from torch_geometric.nn import NNConv, Set2Set, GINConv, GATConv\n",
        "\n",
        "\n",
        "class Net(torch.nn.Module):\n",
        "    def __init__(self, num_features=11, dim=64):\n",
        "        super().__init__()\n",
        "        self.lin0 = torch.nn.Linear(num_features, dim)\n",
        "        # nn = Sequential(Linear(4, 128), ReLU(), Linear(128, dim * dim))\n",
        "        # replace with your own convolutional layers here\n",
        "        self.conv = GATConv(dim, dim, heads=8, concat=False)\n",
        "        self.conv2 = GATConv(dim, dim, heads=4, concat=False)\n",
        "\n",
        "        self.batch_norm = torch.nn.BatchNorm1d(dim)\n",
        "        self.batch_norm = torch.nn.BatchNorm1d(dim)\n",
        "        self.dropout = torch.nn.Dropout(0.60)\n",
        "        # self.conv = NNConv(dim, dim, nn, aggr='mean')\n",
        "        # set2set is used to map from nodes to graphs\n",
        "        self.set2set = Set2Set(dim, processing_steps=3)\n",
        "        self.lin1 = torch.nn.Linear(2 * dim, dim)\n",
        "        self.lin2 = torch.nn.Linear(dim, 1)\n",
        "\n",
        "    def forward(self, data):\n",
        "        # data.x size [batch_num_nodes, num_node_features]\n",
        "        out = F.relu(self.lin0(data.x))\n",
        "        for _ in range(3):\n",
        "            out = F.relu(self.conv(out, data.edge_index))\n",
        "        # [batch_num_nodes, dim] ==> [batch_num_graphs, dim*2]\n",
        "        out = self.set2set(out, data.batch)\n",
        "        out = F.relu(self.lin1(out))\n",
        "        out = self.lin2(out)\n",
        "        return out.view(-1)"
      ]
    },
    {
      "cell_type": "code",
      "execution_count": 4,
      "metadata": {},
      "outputs": [],
      "source": [
        "# load the datasets\n",
        "train_loader = DataLoader(train_data, batch_size=128)\n",
        "validate_loader = DataLoader(validate_data, batch_size=128)\n",
        "test_loader = DataLoader(test_data, batch_size=8)\n",
        "\n",
        "device = torch.device(\"cuda:0\" if torch.cuda.is_available() else \"cpu\")\n",
        "model = Net().to(device)\n",
        "optimizer = torch.optim.Adam(model.parameters(), lr=0.001)\n",
        "scheduler = torch.optim.lr_scheduler.ReduceLROnPlateau(\n",
        "    optimizer, 'min', patience=20)"
      ]
    },
    {
      "cell_type": "code",
      "execution_count": 5,
      "metadata": {
        "id": "eumyKXt1-ZOH"
      },
      "outputs": [],
      "source": [
        "criterion = torch.nn.L1Loss()\n",
        "\n",
        "# define training and evaluation functions\n",
        "\n",
        "\n",
        "def train(loader):\n",
        "    \"\"\"Takes in training dataset loader,\n",
        "    train the model one step,\n",
        "    update the parameters,\n",
        "    return the current loss\"\"\"\n",
        "\n",
        "    model.train()\n",
        "\n",
        "    for data in loader:\n",
        "        # move to device\n",
        "        data = data.to(device)\n",
        "        # train model single forward pass\n",
        "        out = model(data)\n",
        "        # calculate loss\n",
        "        loss = criterion(out, data.y)\n",
        "        # gradients\n",
        "        loss.backward()\n",
        "        # optimizer step\n",
        "        optimizer.step()\n",
        "        optimizer.zero_grad()\n",
        "\n",
        "    return loss\n",
        "\n",
        "\n",
        "def eval(loader, model):\n",
        "    \"\"\"Takes the validation dataset loader,\n",
        "    return the validation MAE\"\"\"\n",
        "\n",
        "    model.eval()\n",
        "    for data in loader:\n",
        "        # move to device also\n",
        "        data = data.to(device)\n",
        "        out = model(data)\n",
        "        loss = criterion(out, data.y)\n",
        "        return loss"
      ]
    },
    {
      "cell_type": "code",
      "execution_count": 9,
      "metadata": {
        "id": "kyAA9GLE-ZOJ"
      },
      "outputs": [
        {
          "name": "stdout",
          "output_type": "stream",
          "text": [
            "epoch: 1 -- train_loss: 0.44798019528388977 -- val_loss: 0.587105393409729\n",
            "epoch: 2 -- train_loss: 0.4479755759239197 -- val_loss: 0.5865910053253174\n",
            "epoch: 3 -- train_loss: 0.44792643189430237 -- val_loss: 0.586639404296875\n",
            "epoch: 4 -- train_loss: 0.4478062689304352 -- val_loss: 0.5870857238769531\n",
            "epoch: 5 -- train_loss: 0.44762492179870605 -- val_loss: 0.5864543914794922\n",
            "epoch: 6 -- train_loss: 0.44763654470443726 -- val_loss: 0.5865185260772705\n",
            "epoch: 7 -- train_loss: 0.44740086793899536 -- val_loss: 0.5870583057403564\n",
            "epoch: 8 -- train_loss: 0.4472275376319885 -- val_loss: 0.5868398547172546\n",
            "epoch: 9 -- train_loss: 0.44737356901168823 -- val_loss: 0.586712658405304\n",
            "epoch: 10 -- train_loss: 0.4473802447319031 -- val_loss: 0.5866365432739258\n",
            "epoch: 11 -- train_loss: 0.44733911752700806 -- val_loss: 0.5864822864532471\n",
            "epoch: 12 -- train_loss: 0.4471517503261566 -- val_loss: 0.5864696502685547\n",
            "epoch: 13 -- train_loss: 0.44717079401016235 -- val_loss: 0.5863512754440308\n",
            "epoch: 14 -- train_loss: 0.44719257950782776 -- val_loss: 0.5866714715957642\n",
            "epoch: 15 -- train_loss: 0.44676315784454346 -- val_loss: 0.5864726305007935\n",
            "epoch: 16 -- train_loss: 0.44697898626327515 -- val_loss: 0.5864518284797668\n",
            "epoch: 17 -- train_loss: 0.44661766290664673 -- val_loss: 0.5863847732543945\n",
            "epoch: 18 -- train_loss: 0.4468785524368286 -- val_loss: 0.5865216255187988\n",
            "epoch: 19 -- train_loss: 0.4467237889766693 -- val_loss: 0.5858940482139587\n",
            "epoch: 20 -- train_loss: 0.446732759475708 -- val_loss: 0.5864238142967224\n",
            "epoch: 21 -- train_loss: 0.44688326120376587 -- val_loss: 0.586230993270874\n",
            "epoch: 22 -- train_loss: 0.4466715157032013 -- val_loss: 0.586310088634491\n",
            "epoch: 23 -- train_loss: 0.4469108581542969 -- val_loss: 0.5862066745758057\n",
            "epoch: 24 -- train_loss: 0.4467349052429199 -- val_loss: 0.5861321687698364\n",
            "epoch: 25 -- train_loss: 0.44631898403167725 -- val_loss: 0.5857716798782349\n",
            "epoch: 26 -- train_loss: 0.446150541305542 -- val_loss: 0.5860163569450378\n",
            "epoch: 27 -- train_loss: 0.4461691677570343 -- val_loss: 0.5858939290046692\n",
            "epoch: 28 -- train_loss: 0.4460654854774475 -- val_loss: 0.5858369469642639\n",
            "epoch: 29 -- train_loss: 0.44580501317977905 -- val_loss: 0.5857137441635132\n",
            "epoch: 30 -- train_loss: 0.44579774141311646 -- val_loss: 0.585620641708374\n",
            "epoch: 31 -- train_loss: 0.44600871205329895 -- val_loss: 0.5853759050369263\n",
            "epoch: 32 -- train_loss: 0.4458293616771698 -- val_loss: 0.5856988430023193\n",
            "epoch: 33 -- train_loss: 0.4455302357673645 -- val_loss: 0.5856543779373169\n",
            "epoch: 34 -- train_loss: 0.4452533721923828 -- val_loss: 0.5854811668395996\n",
            "epoch: 35 -- train_loss: 0.4452957510948181 -- val_loss: 0.5853421688079834\n",
            "epoch: 36 -- train_loss: 0.4456555247306824 -- val_loss: 0.5855464339256287\n",
            "epoch: 37 -- train_loss: 0.44543784856796265 -- val_loss: 0.5855081081390381\n",
            "epoch: 38 -- train_loss: 0.44540056586265564 -- val_loss: 0.5851038098335266\n",
            "epoch: 39 -- train_loss: 0.4452301859855652 -- val_loss: 0.5854830741882324\n",
            "epoch: 40 -- train_loss: 0.444885790348053 -- val_loss: 0.585142970085144\n",
            "epoch: 41 -- train_loss: 0.4451324939727783 -- val_loss: 0.5850385427474976\n",
            "epoch: 42 -- train_loss: 0.4448511004447937 -- val_loss: 0.5849710702896118\n",
            "epoch: 43 -- train_loss: 0.4451271891593933 -- val_loss: 0.5850164294242859\n",
            "epoch: 44 -- train_loss: 0.4448082447052002 -- val_loss: 0.5850207805633545\n",
            "epoch: 45 -- train_loss: 0.4448122978210449 -- val_loss: 0.5849459767341614\n",
            "epoch: 46 -- train_loss: 0.4448034465312958 -- val_loss: 0.5850244760513306\n",
            "epoch: 47 -- train_loss: 0.44485920667648315 -- val_loss: 0.5849440097808838\n",
            "epoch: 48 -- train_loss: 0.44457221031188965 -- val_loss: 0.5847750902175903\n",
            "epoch: 49 -- train_loss: 0.4446566700935364 -- val_loss: 0.5846842527389526\n",
            "epoch: 50 -- train_loss: 0.44451430439949036 -- val_loss: 0.5850291848182678\n",
            "epoch: 51 -- train_loss: 0.44430139660835266 -- val_loss: 0.5847491025924683\n",
            "epoch: 52 -- train_loss: 0.44441044330596924 -- val_loss: 0.5843978524208069\n",
            "epoch: 53 -- train_loss: 0.44434893131256104 -- val_loss: 0.5848143100738525\n",
            "epoch: 54 -- train_loss: 0.4441656172275543 -- val_loss: 0.5845668315887451\n",
            "epoch: 55 -- train_loss: 0.4440586566925049 -- val_loss: 0.5846570730209351\n",
            "epoch: 56 -- train_loss: 0.44383305311203003 -- val_loss: 0.5845317840576172\n",
            "epoch: 57 -- train_loss: 0.44414442777633667 -- val_loss: 0.584547758102417\n",
            "epoch: 58 -- train_loss: 0.4434804320335388 -- val_loss: 0.5845073461532593\n",
            "epoch: 59 -- train_loss: 0.4437411427497864 -- val_loss: 0.5845508575439453\n",
            "epoch: 60 -- train_loss: 0.4436950981616974 -- val_loss: 0.5845867991447449\n",
            "epoch: 61 -- train_loss: 0.44365909695625305 -- val_loss: 0.5846010446548462\n",
            "epoch: 62 -- train_loss: 0.4432573914527893 -- val_loss: 0.5842206478118896\n",
            "epoch: 63 -- train_loss: 0.4435321092605591 -- val_loss: 0.5844879150390625\n",
            "epoch: 64 -- train_loss: 0.4433733820915222 -- val_loss: 0.5846923589706421\n",
            "epoch: 65 -- train_loss: 0.4430338144302368 -- val_loss: 0.5843216180801392\n",
            "epoch: 66 -- train_loss: 0.4433484971523285 -- val_loss: 0.5842136740684509\n",
            "epoch: 67 -- train_loss: 0.4429110884666443 -- val_loss: 0.5848339796066284\n",
            "epoch: 68 -- train_loss: 0.4428563117980957 -- val_loss: 0.5845934152603149\n",
            "epoch: 69 -- train_loss: 0.4428231120109558 -- val_loss: 0.584571123123169\n",
            "epoch: 70 -- train_loss: 0.4431605339050293 -- val_loss: 0.5844357013702393\n",
            "epoch: 71 -- train_loss: 0.44291117787361145 -- val_loss: 0.5850178003311157\n",
            "epoch: 72 -- train_loss: 0.44273990392684937 -- val_loss: 0.585070013999939\n",
            "epoch: 73 -- train_loss: 0.4427734315395355 -- val_loss: 0.5846942663192749\n",
            "epoch: 74 -- train_loss: 0.4423427879810333 -- val_loss: 0.5845062136650085\n",
            "epoch: 75 -- train_loss: 0.4424971044063568 -- val_loss: 0.5846866369247437\n",
            "epoch: 76 -- train_loss: 0.4424592852592468 -- val_loss: 0.5847345590591431\n",
            "epoch: 77 -- train_loss: 0.442310631275177 -- val_loss: 0.584912896156311\n",
            "epoch: 78 -- train_loss: 0.4425108730792999 -- val_loss: 0.5846500396728516\n",
            "epoch: 79 -- train_loss: 0.44229525327682495 -- val_loss: 0.5845673680305481\n",
            "epoch: 80 -- train_loss: 0.4424704313278198 -- val_loss: 0.5845052003860474\n",
            "epoch: 81 -- train_loss: 0.4419465661048889 -- val_loss: 0.5845143795013428\n",
            "epoch: 82 -- train_loss: 0.4421415328979492 -- val_loss: 0.5845655798912048\n",
            "epoch: 83 -- train_loss: 0.4423716366291046 -- val_loss: 0.5845959186553955\n",
            "epoch: 84 -- train_loss: 0.44204482436180115 -- val_loss: 0.5846501588821411\n",
            "epoch: 85 -- train_loss: 0.44200336933135986 -- val_loss: 0.5849145650863647\n",
            "epoch: 86 -- train_loss: 0.44189462065696716 -- val_loss: 0.5851506590843201\n",
            "epoch: 87 -- train_loss: 0.44181686639785767 -- val_loss: 0.5853294134140015\n",
            "epoch: 88 -- train_loss: 0.44168800115585327 -- val_loss: 0.5854763984680176\n",
            "epoch: 89 -- train_loss: 0.44170302152633667 -- val_loss: 0.5855324268341064\n",
            "epoch: 90 -- train_loss: 0.4416530728340149 -- val_loss: 0.5856146216392517\n",
            "epoch: 91 -- train_loss: 0.4416842758655548 -- val_loss: 0.5856608152389526\n",
            "epoch: 92 -- train_loss: 0.44163766503334045 -- val_loss: 0.5857325196266174\n",
            "epoch: 93 -- train_loss: 0.4416137635707855 -- val_loss: 0.5857455134391785\n",
            "epoch: 94 -- train_loss: 0.4415794014930725 -- val_loss: 0.5857181549072266\n",
            "epoch: 95 -- train_loss: 0.4415621757507324 -- val_loss: 0.5857499837875366\n",
            "epoch: 96 -- train_loss: 0.4415661692619324 -- val_loss: 0.5857579708099365\n",
            "epoch: 97 -- train_loss: 0.44157785177230835 -- val_loss: 0.5857448577880859\n",
            "epoch: 98 -- train_loss: 0.4415527582168579 -- val_loss: 0.5857795476913452\n",
            "epoch: 99 -- train_loss: 0.44149404764175415 -- val_loss: 0.5857189297676086\n"
          ]
        }
      ],
      "source": [
        "# training\n",
        "num_epochs = 100\n",
        "for epoch in range(1, num_epochs):\n",
        "    \"\"\"Calculate loss and\n",
        "    validation MAE\"\"\"\n",
        "    train(train_loader)\n",
        "\n",
        "    train_loss = eval(train_loader, model=model)\n",
        "    val_loss = eval(validate_loader, model=model)\n",
        "\n",
        "    scheduler.step(val_loss)\n",
        "\n",
        "    print(\n",
        "        f\"epoch: {epoch} -- train_loss: {train_loss} -- val_loss: {val_loss}\")"
      ]
    },
    {
      "cell_type": "code",
      "execution_count": 10,
      "metadata": {
        "id": "ykihqvj1-ZOK"
      },
      "outputs": [],
      "source": [
        "# predict\n",
        "model.eval()\n",
        "y_pred = []\n",
        "Idx = []\n",
        "\n",
        "with torch.no_grad():\n",
        "    for data in test_loader:\n",
        "        \"\"\"Predict and save graph index and\n",
        "        predicted y value\"\"\"\n",
        "\n",
        "        # send data to device\n",
        "        data = data.to(device)\n",
        "\n",
        "        # get preds\n",
        "        pred = model(data)\n",
        "\n",
        "        # move pred back to cpu for numpy/storage\n",
        "        pred = pred.detach().cpu().numpy()\n",
        "\n",
        "        # add pred to y_pred\n",
        "        y_pred.extend(pred)\n",
        "\n",
        "        # get graph indecies\n",
        "        Idx.extend([data_item.name for data_item in data.to_data_list()])\n",
        "\n",
        "assert (len(Idx) == len(y_pred))\n",
        "\n",
        "df = pd.DataFrame({\"Idx\": Idx, \"labels\": y_pred})"
      ]
    },
    {
      "cell_type": "code",
      "execution_count": 11,
      "metadata": {
        "id": "Ib5a1tFn-ZOK"
      },
      "outputs": [],
      "source": [
        "# upload solution\n",
        "df.columns = ['Idx', 'labels']\n",
        "df.to_csv(\"data/submission1.csv\", index=False)"
      ]
    }
  ],
  "metadata": {
    "colab": {
      "provenance": []
    },
    "kernelspec": {
      "display_name": ".venv",
      "language": "python",
      "name": "python3"
    },
    "language_info": {
      "codemirror_mode": {
        "name": "ipython",
        "version": 3
      },
      "file_extension": ".py",
      "mimetype": "text/x-python",
      "name": "python",
      "nbconvert_exporter": "python",
      "pygments_lexer": "ipython3",
      "version": "3.12.6"
    },
    "orig_nbformat": 4
  },
  "nbformat": 4,
  "nbformat_minor": 0
}
