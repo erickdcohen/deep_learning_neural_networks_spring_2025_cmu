{
  "cells": [
    {
      "cell_type": "markdown",
      "metadata": {},
      "source": [
        "# Homework 04 Graph Convolutional Neural Networks\n"
      ]
    },
    {
      "cell_type": "code",
      "execution_count": 1,
      "metadata": {
        "id": "6z5zXzc2-ZOD"
      },
      "outputs": [],
      "source": [
        "import pandas as pd\n",
        "import torch\n",
        "import torch.nn.functional as F\n",
        "from torch.nn import Linear, ReLU, Sequential\n",
        "from torch_geometric.data import Dataset\n",
        "from torch_geometric.loader import DataLoader"
      ]
    },
    {
      "cell_type": "markdown",
      "metadata": {
        "id": "JrdqqRyp-ZOE"
      },
      "source": [
        "## Part I. The training and testing dataset are provided\n",
        "\n",
        "- The train and test datasets were pre-processed graphs. The train dataset contains 20,000 graphs, while the test dataset contains 2,000 graphs.\n",
        "- Each graph contains the following components:\n",
        "\n",
        "  - `x`, the matrix containing node features, `[num_of_nodes, num_node_features=11]`\n",
        "  - `edge_index`, the matrix containing connection information about different nodes, `[2, num_of_edges]`\n",
        "  - `y`, the label for the graph, `scaler`. The value is set to `0` in the test dataset\n",
        "  - `pos`, the matrix containing the node positions, `[num_of_nodes, 3]`\n",
        "  - `edge_attr`, the matrix containing the edge information, `[num_edges, 4]`\n",
        "  - `names`, index for the graph. For example, `gdb_59377`\n",
        "\n",
        "- Depending on the graph convolutional layer that is used, different components are needed. For the most basic application, `x`, `edge_index` and `y` will be used.\n"
      ]
    },
    {
      "cell_type": "code",
      "execution_count": 2,
      "metadata": {
        "id": "4uVaHtpZ8nwV"
      },
      "outputs": [],
      "source": [
        "class QM_Dataset(Dataset):\n",
        "    def __init__(self, path):\n",
        "        super().__init__(root=\".\")\n",
        "        self.data = torch.load(path, weights_only=False)\n",
        "\n",
        "    def len(self):\n",
        "        return len(self.data)\n",
        "\n",
        "    def get(self, idx):\n",
        "        return self.data[idx]\n",
        "\n",
        "\n",
        "train_path = \"data/train.pt\"\n",
        "test_path = \"data/test.pt\"\n",
        "\n",
        "train_data_ = QM_Dataset(train_path)\n",
        "\n",
        "# train dataset can be split for validation purposes\n",
        "train_data, validate_data = torch.utils.data.random_split(train_data_, [\n",
        "                                                          19000, 1000])\n",
        "test_data = QM_Dataset(test_path)"
      ]
    },
    {
      "cell_type": "markdown",
      "metadata": {
        "id": "PMYYRRR0-ZOG"
      },
      "source": [
        "## Part II. Example solution\n"
      ]
    },
    {
      "cell_type": "code",
      "execution_count": 7,
      "metadata": {
        "id": "uPg-AIWd-ZOG"
      },
      "outputs": [],
      "source": [
        "# define the network\n",
        "# many convolutional layers are available in torch_geometric.nn\n",
        "# here NNConv is just used as an example\n",
        "\n",
        "from torch_geometric.nn import NNConv, Set2Set, GCNConv, GATConv\n",
        "\n",
        "\n",
        "class Net(torch.nn.Module):\n",
        "    def __init__(self, num_features=11, dim=64):\n",
        "        super().__init__()\n",
        "        self.lin0 = torch.nn.Linear(num_features, dim)\n",
        "        nn = Sequential(Linear(4, 128), ReLU(), Linear(128, dim * dim))\n",
        "        # replace with your own convolutional layers here\n",
        "        self.conv = GATConv(dim, dim, heads=4, concat=False)\n",
        "        self.conv2 = GATConv(dim, dim, heads=4, concat=False)\n",
        "        self.conv3 = GATConv(dim, dim, heads=4, concat=False),\n",
        "        self.batch_norm = torch.nn.BatchNorm1d(dim)\n",
        "        self.batch_norm = torch.nn.BatchNorm1d(dim)\n",
        "        self.batch_norm = torch.nn.BatchNorm1d(dim)\n",
        "        self.dropout = torch.nn.Dropout(0.5)\n",
        "        # self.conv = NNConv(dim, dim, nn, aggr='mean')\n",
        "        # set2set is used to map from nodes to graphs\n",
        "        self.set2set = Set2Set(dim, processing_steps=3)\n",
        "        self.lin1 = torch.nn.Linear(2 * dim, dim)\n",
        "        self.lin2 = torch.nn.Linear(dim, 1)\n",
        "\n",
        "    def forward(self, data):\n",
        "        # data.x size [batch_num_nodes, num_node_features]\n",
        "        out = F.relu(self.lin0(data.x))\n",
        "        for _ in range(3):\n",
        "            out = F.relu(self.conv(out, data.edge_index))\n",
        "        # [batch_num_nodes, dim] ==> [batch_num_graphs, dim*2]\n",
        "        out = self.set2set(out, data.batch)\n",
        "        out = F.relu(self.lin1(out))\n",
        "        out = self.lin2(out)\n",
        "        return out.view(-1)"
      ]
    },
    {
      "cell_type": "code",
      "execution_count": 8,
      "metadata": {},
      "outputs": [],
      "source": [
        "# load the datasets\n",
        "train_loader = DataLoader(train_data, batch_size=128)\n",
        "validate_loader = DataLoader(validate_data, batch_size=128)\n",
        "test_loader = DataLoader(test_data, batch_size=8)\n",
        "\n",
        "device = torch.device(\"cuda:0\" if torch.cuda.is_available() else \"cpu\")\n",
        "model = Net().to(device)\n",
        "optimizer = torch.optim.Adam(model.parameters(), lr=0.001)"
      ]
    },
    {
      "cell_type": "code",
      "execution_count": 9,
      "metadata": {
        "id": "eumyKXt1-ZOH"
      },
      "outputs": [],
      "source": [
        "criterion = torch.nn.L1Loss()\n",
        "\n",
        "# define training and evaluation functions\n",
        "\n",
        "\n",
        "def train(loader):\n",
        "    \"\"\"Takes in training dataset loader,\n",
        "    train the model one step,\n",
        "    update the parameters,\n",
        "    return the current loss\"\"\"\n",
        "\n",
        "    model.train()\n",
        "\n",
        "    for data in loader:\n",
        "        # move to device\n",
        "        data = data.to(device)\n",
        "        # train model single forward pass\n",
        "        out = model(data)\n",
        "        # calculate loss\n",
        "        loss = criterion(out, data.y)\n",
        "        # gradients\n",
        "        loss.backward()\n",
        "        # optimizer step\n",
        "        optimizer.step()\n",
        "        optimizer.zero_grad()\n",
        "\n",
        "    return loss\n",
        "\n",
        "\n",
        "def eval(loader, model):\n",
        "    \"\"\"Takes the validation dataset loader,\n",
        "    return the validation MAE\"\"\"\n",
        "\n",
        "    model.eval()\n",
        "    for data in loader:\n",
        "        # move to device also\n",
        "        data = data.to(device)\n",
        "        out = model(data)\n",
        "        loss = criterion(out, data.y)\n",
        "        return loss"
      ]
    },
    {
      "cell_type": "code",
      "execution_count": 11,
      "metadata": {
        "id": "kyAA9GLE-ZOJ"
      },
      "outputs": [
        {
          "name": "stdout",
          "output_type": "stream",
          "text": [
            "epoch: 1 -- train_loss: 0.6199175119400024 -- val_loss: 0.6186742186546326\n",
            "epoch: 2 -- train_loss: 0.6317270398139954 -- val_loss: 0.5941652059555054\n",
            "epoch: 3 -- train_loss: 0.6249935626983643 -- val_loss: 0.5945664644241333\n",
            "epoch: 4 -- train_loss: 0.6238871812820435 -- val_loss: 0.6093147993087769\n",
            "epoch: 5 -- train_loss: 0.6084858179092407 -- val_loss: 0.5895726680755615\n",
            "epoch: 6 -- train_loss: 0.6091647148132324 -- val_loss: 0.6140689253807068\n",
            "epoch: 7 -- train_loss: 0.5886023044586182 -- val_loss: 0.6047706604003906\n",
            "epoch: 8 -- train_loss: 0.6024277210235596 -- val_loss: 0.5972541570663452\n",
            "epoch: 9 -- train_loss: 0.5966967344284058 -- val_loss: 0.5942175388336182\n",
            "epoch: 10 -- train_loss: 0.5851913690567017 -- val_loss: 0.6069930195808411\n",
            "epoch: 11 -- train_loss: 0.5955867767333984 -- val_loss: 0.5984817743301392\n",
            "epoch: 12 -- train_loss: 0.5951893925666809 -- val_loss: 0.616937518119812\n",
            "epoch: 13 -- train_loss: 0.5956015586853027 -- val_loss: 0.6008371114730835\n",
            "epoch: 14 -- train_loss: 0.5781606435775757 -- val_loss: 0.616248369216919\n",
            "epoch: 15 -- train_loss: 0.5629969835281372 -- val_loss: 0.5997534990310669\n",
            "epoch: 16 -- train_loss: 0.568981409072876 -- val_loss: 0.6038370132446289\n",
            "epoch: 17 -- train_loss: 0.5834270715713501 -- val_loss: 0.6077197194099426\n",
            "epoch: 18 -- train_loss: 0.576301097869873 -- val_loss: 0.6028416156768799\n",
            "epoch: 19 -- train_loss: 0.5681396722793579 -- val_loss: 0.5828726291656494\n",
            "epoch: 20 -- train_loss: 0.5814450979232788 -- val_loss: 0.6238082647323608\n",
            "epoch: 21 -- train_loss: 0.57672119140625 -- val_loss: 0.6018450260162354\n",
            "epoch: 22 -- train_loss: 0.5659449100494385 -- val_loss: 0.6058757901191711\n",
            "epoch: 23 -- train_loss: 0.5652589797973633 -- val_loss: 0.5970444679260254\n",
            "epoch: 24 -- train_loss: 0.6036053895950317 -- val_loss: 0.6047393083572388\n",
            "epoch: 25 -- train_loss: 0.5733611583709717 -- val_loss: 0.5964372158050537\n",
            "epoch: 26 -- train_loss: 0.5701977610588074 -- val_loss: 0.5841460227966309\n",
            "epoch: 27 -- train_loss: 0.5894773006439209 -- val_loss: 0.593970537185669\n",
            "epoch: 28 -- train_loss: 0.5698894262313843 -- val_loss: 0.5906063318252563\n",
            "epoch: 29 -- train_loss: 0.5834884643554688 -- val_loss: 0.6275641918182373\n",
            "epoch: 30 -- train_loss: 0.5508792400360107 -- val_loss: 0.5831042528152466\n",
            "epoch: 31 -- train_loss: 0.5927789211273193 -- val_loss: 0.6098141074180603\n",
            "epoch: 32 -- train_loss: 0.5972150564193726 -- val_loss: 0.6072847247123718\n",
            "epoch: 33 -- train_loss: 0.5811737775802612 -- val_loss: 0.603931188583374\n",
            "epoch: 34 -- train_loss: 0.5758967995643616 -- val_loss: 0.614838719367981\n",
            "epoch: 35 -- train_loss: 0.5766705870628357 -- val_loss: 0.592440128326416\n",
            "epoch: 36 -- train_loss: 0.5760451555252075 -- val_loss: 0.6021146774291992\n",
            "epoch: 37 -- train_loss: 0.5775207281112671 -- val_loss: 0.6018034219741821\n",
            "epoch: 38 -- train_loss: 0.5819312334060669 -- val_loss: 0.6012210845947266\n",
            "epoch: 39 -- train_loss: 0.5656710863113403 -- val_loss: 0.5971455574035645\n",
            "epoch: 40 -- train_loss: 0.5545656681060791 -- val_loss: 0.5951216816902161\n",
            "epoch: 41 -- train_loss: 0.5766458511352539 -- val_loss: 0.5865300893783569\n",
            "epoch: 42 -- train_loss: 0.5932537317276001 -- val_loss: 0.5916028022766113\n",
            "epoch: 43 -- train_loss: 0.5560973286628723 -- val_loss: 0.6033890247344971\n",
            "epoch: 44 -- train_loss: 0.5899977684020996 -- val_loss: 0.5960136651992798\n",
            "epoch: 45 -- train_loss: 0.5718933343887329 -- val_loss: 0.6024894714355469\n",
            "epoch: 46 -- train_loss: 0.5699301958084106 -- val_loss: 0.6008782386779785\n",
            "epoch: 47 -- train_loss: 0.5753729939460754 -- val_loss: 0.5958632230758667\n",
            "epoch: 48 -- train_loss: 0.572106659412384 -- val_loss: 0.6141399145126343\n",
            "epoch: 49 -- train_loss: 0.595283031463623 -- val_loss: 0.6175721287727356\n",
            "epoch: 50 -- train_loss: 0.620639443397522 -- val_loss: 0.6050097942352295\n",
            "epoch: 51 -- train_loss: 0.5927301645278931 -- val_loss: 0.586150050163269\n",
            "epoch: 52 -- train_loss: 0.5997013449668884 -- val_loss: 0.616556704044342\n",
            "epoch: 53 -- train_loss: 0.5905357003211975 -- val_loss: 0.6002658605575562\n",
            "epoch: 54 -- train_loss: 0.5974774360656738 -- val_loss: 0.5957311391830444\n",
            "epoch: 55 -- train_loss: 0.5827516317367554 -- val_loss: 0.5885156393051147\n",
            "epoch: 56 -- train_loss: 0.5792996883392334 -- val_loss: 0.5777304172515869\n",
            "epoch: 57 -- train_loss: 0.5856807231903076 -- val_loss: 0.5817933678627014\n",
            "epoch: 58 -- train_loss: 0.5975251197814941 -- val_loss: 0.6168372631072998\n",
            "epoch: 59 -- train_loss: 0.574390172958374 -- val_loss: 0.576167106628418\n",
            "epoch: 60 -- train_loss: 0.579076886177063 -- val_loss: 0.6060971021652222\n",
            "epoch: 61 -- train_loss: 0.5872447490692139 -- val_loss: 0.5890721678733826\n",
            "epoch: 62 -- train_loss: 0.5772894620895386 -- val_loss: 0.5851759314537048\n",
            "epoch: 63 -- train_loss: 0.5707603096961975 -- val_loss: 0.6125614643096924\n",
            "epoch: 64 -- train_loss: 0.57002854347229 -- val_loss: 0.596757173538208\n",
            "epoch: 65 -- train_loss: 0.5813394784927368 -- val_loss: 0.6197962164878845\n",
            "epoch: 66 -- train_loss: 0.5586035251617432 -- val_loss: 0.5866445899009705\n",
            "epoch: 67 -- train_loss: 0.5492446422576904 -- val_loss: 0.6029462218284607\n",
            "epoch: 68 -- train_loss: 0.560999870300293 -- val_loss: 0.5923752784729004\n",
            "epoch: 69 -- train_loss: 0.5756497979164124 -- val_loss: 0.6006627082824707\n",
            "epoch: 70 -- train_loss: 0.5629531145095825 -- val_loss: 0.5981136560440063\n",
            "epoch: 71 -- train_loss: 0.5699734687805176 -- val_loss: 0.6149189472198486\n",
            "epoch: 72 -- train_loss: 0.5589975118637085 -- val_loss: 0.6085698008537292\n",
            "epoch: 73 -- train_loss: 0.5595874786376953 -- val_loss: 0.6190696358680725\n",
            "epoch: 74 -- train_loss: 0.5566315054893494 -- val_loss: 0.6180089116096497\n",
            "epoch: 75 -- train_loss: 0.5571908354759216 -- val_loss: 0.6273179650306702\n",
            "epoch: 76 -- train_loss: 0.541710615158081 -- val_loss: 0.5990581512451172\n",
            "epoch: 77 -- train_loss: 0.564655601978302 -- val_loss: 0.6261901259422302\n",
            "epoch: 78 -- train_loss: 0.5452260971069336 -- val_loss: 0.6066265106201172\n",
            "epoch: 79 -- train_loss: 0.547200083732605 -- val_loss: 0.6088320016860962\n",
            "epoch: 80 -- train_loss: 0.5373653173446655 -- val_loss: 0.6089456081390381\n",
            "epoch: 81 -- train_loss: 0.5469867587089539 -- val_loss: 0.6153488755226135\n",
            "epoch: 82 -- train_loss: 0.5472778081893921 -- val_loss: 0.6124306917190552\n",
            "epoch: 83 -- train_loss: 0.5432118773460388 -- val_loss: 0.615380585193634\n",
            "epoch: 84 -- train_loss: 0.5390969514846802 -- val_loss: 0.6183587312698364\n",
            "epoch: 85 -- train_loss: 0.519396960735321 -- val_loss: 0.6157740354537964\n",
            "epoch: 86 -- train_loss: 0.527076244354248 -- val_loss: 0.6098552942276001\n",
            "epoch: 87 -- train_loss: 0.5233831405639648 -- val_loss: 0.6142900586128235\n",
            "epoch: 88 -- train_loss: 0.5363737344741821 -- val_loss: 0.6187148094177246\n",
            "epoch: 89 -- train_loss: 0.5470664501190186 -- val_loss: 0.6155099868774414\n",
            "epoch: 90 -- train_loss: 0.5257061123847961 -- val_loss: 0.620637059211731\n",
            "epoch: 91 -- train_loss: 0.5280494093894958 -- val_loss: 0.6117895245552063\n",
            "epoch: 92 -- train_loss: 0.5262273550033569 -- val_loss: 0.6256563663482666\n",
            "epoch: 93 -- train_loss: 0.5450744032859802 -- val_loss: 0.6156935095787048\n",
            "epoch: 94 -- train_loss: 0.5452982783317566 -- val_loss: 0.5853193998336792\n",
            "epoch: 95 -- train_loss: 0.5432687997817993 -- val_loss: 0.6437751054763794\n",
            "epoch: 96 -- train_loss: 0.528233528137207 -- val_loss: 0.6072791814804077\n",
            "epoch: 97 -- train_loss: 0.516372561454773 -- val_loss: 0.6128137111663818\n",
            "epoch: 98 -- train_loss: 0.5149519443511963 -- val_loss: 0.6096367835998535\n",
            "epoch: 99 -- train_loss: 0.5179618000984192 -- val_loss: 0.6075997352600098\n"
          ]
        }
      ],
      "source": [
        "# training\n",
        "num_epochs = 100\n",
        "for epoch in range(1, num_epochs):\n",
        "    \"\"\"Calculate loss and\n",
        "    validation MAE\"\"\"\n",
        "    train(train_loader)\n",
        "\n",
        "    train_loss = eval(train_loader, model=model)\n",
        "    val_loss = eval(validate_loader, model=model)\n",
        "    print(\n",
        "        f\"epoch: {epoch} -- train_loss: {train_loss} -- val_loss: {val_loss}\")"
      ]
    },
    {
      "cell_type": "code",
      "execution_count": 12,
      "metadata": {
        "id": "ykihqvj1-ZOK"
      },
      "outputs": [],
      "source": [
        "# predict\n",
        "model.eval()\n",
        "y_pred = []\n",
        "Idx = []\n",
        "\n",
        "with torch.no_grad():\n",
        "    for data in test_loader:\n",
        "        \"\"\"Predict and save graph index and\n",
        "        predicted y value\"\"\"\n",
        "\n",
        "        # send data to device\n",
        "        data = data.to(device)\n",
        "\n",
        "        # get preds\n",
        "        pred = model(data)\n",
        "\n",
        "        # move pred back to cpu for numpy/storage\n",
        "        pred = pred.detach().cpu().numpy()\n",
        "\n",
        "        # add pred to y_pred\n",
        "        y_pred.extend(pred)\n",
        "\n",
        "        # get graph indecies\n",
        "        Idx.extend([data_item.name for data_item in data.to_data_list()])\n",
        "\n",
        "assert (len(Idx) == len(y_pred))\n",
        "\n",
        "df = pd.DataFrame({\"Idx\": Idx, \"labels\": y_pred})"
      ]
    },
    {
      "cell_type": "code",
      "execution_count": 13,
      "metadata": {
        "id": "Ib5a1tFn-ZOK"
      },
      "outputs": [],
      "source": [
        "# upload solution\n",
        "df.columns = ['Idx', 'labels']\n",
        "df.to_csv(\"data/submission1.csv\", index=False)"
      ]
    }
  ],
  "metadata": {
    "colab": {
      "provenance": []
    },
    "kernelspec": {
      "display_name": ".venv",
      "language": "python",
      "name": "python3"
    },
    "language_info": {
      "codemirror_mode": {
        "name": "ipython",
        "version": 3
      },
      "file_extension": ".py",
      "mimetype": "text/x-python",
      "name": "python",
      "nbconvert_exporter": "python",
      "pygments_lexer": "ipython3",
      "version": "3.12.6"
    },
    "orig_nbformat": 4
  },
  "nbformat": 4,
  "nbformat_minor": 0
}
