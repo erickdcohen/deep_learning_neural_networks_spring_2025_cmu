{
  "cells": [
    {
      "cell_type": "markdown",
      "metadata": {},
      "source": [
        "# Homework 04 Graph Convolutional Neural Networks\n"
      ]
    },
    {
      "cell_type": "code",
      "execution_count": 1,
      "metadata": {
        "id": "6z5zXzc2-ZOD"
      },
      "outputs": [],
      "source": [
        "import pandas as pd\n",
        "import torch\n",
        "import torch.nn.functional as F\n",
        "from torch.nn import Linear, ReLU, Sequential\n",
        "from torch_geometric.data import Dataset\n",
        "from torch_geometric.loader import DataLoader"
      ]
    },
    {
      "cell_type": "markdown",
      "metadata": {
        "id": "JrdqqRyp-ZOE"
      },
      "source": [
        "## Part I. The training and testing dataset are provided\n",
        "\n",
        "- The train and test datasets were pre-processed graphs. The train dataset contains 20,000 graphs, while the test dataset contains 2,000 graphs.\n",
        "- Each graph contains the following components:\n",
        "\n",
        "  - `x`, the matrix containing node features, `[num_of_nodes, num_node_features=11]`\n",
        "  - `edge_index`, the matrix containing connection information about different nodes, `[2, num_of_edges]`\n",
        "  - `y`, the label for the graph, `scaler`. The value is set to `0` in the test dataset\n",
        "  - `pos`, the matrix containing the node positions, `[num_of_nodes, 3]`\n",
        "  - `edge_attr`, the matrix containing the edge information, `[num_edges, 4]`\n",
        "  - `names`, index for the graph. For example, `gdb_59377`\n",
        "\n",
        "- Depending on the graph convolutional layer that is used, different components are needed. For the most basic application, `x`, `edge_index` and `y` will be used.\n"
      ]
    },
    {
      "cell_type": "code",
      "execution_count": 2,
      "metadata": {
        "id": "4uVaHtpZ8nwV"
      },
      "outputs": [],
      "source": [
        "class QM_Dataset(Dataset):\n",
        "    def __init__(self, path):\n",
        "        super().__init__(root=\".\")\n",
        "        self.data = torch.load(path, weights_only=False)\n",
        "\n",
        "    def len(self):\n",
        "        return len(self.data)\n",
        "\n",
        "    def get(self, idx):\n",
        "        return self.data[idx]\n",
        "\n",
        "\n",
        "train_path = \"data/train.pt\"\n",
        "test_path = \"data/test.pt\"\n",
        "\n",
        "train_data_ = QM_Dataset(train_path)\n",
        "\n",
        "# train dataset can be split for validation purposes\n",
        "train_data, validate_data = torch.utils.data.random_split(train_data_, [\n",
        "                                                          19000, 1000])\n",
        "test_data = QM_Dataset(test_path)"
      ]
    },
    {
      "cell_type": "markdown",
      "metadata": {
        "id": "PMYYRRR0-ZOG"
      },
      "source": [
        "## Part II. Example solution\n"
      ]
    },
    {
      "cell_type": "code",
      "execution_count": null,
      "metadata": {
        "id": "uPg-AIWd-ZOG"
      },
      "outputs": [],
      "source": [
        "# define the network\n",
        "# many convolutional layers are available in torch_geometric.nn\n",
        "# here NNConv is just used as an example\n",
        "\n",
        "from torch_geometric.nn import NNConv, Set2Set, GCNConv, GATConv\n",
        "\n",
        "\n",
        "class Net(torch.nn.Module):\n",
        "    def __init__(self, num_features=11, dim=64):\n",
        "        super().__init__()\n",
        "        self.lin0 = torch.nn.Linear(num_features, dim)\n",
        "        nn = Sequential(Linear(4, 128), ReLU(), Linear(128, dim * dim))\n",
        "        # replace with your own convolutional layers here\n",
        "        self.conv = GATConv(dim, dim, heads=4)\n",
        "        self.conv2 = GATConv(dim, dim, heads=4)\n",
        "        self.conv3 = GATConv(dim, dim, heads=4),\n",
        "        self.batch_norm = torch.nn.BatchNorm1d(dim)\n",
        "        self.batch_norm = torch.nn.BatchNorm1d(dim)\n",
        "        self.batch_norm = torch.nn.BatchNorm1d(dim)\n",
        "        self.dropout = torch.nn.Dropout(0.5)\n",
        "        # self.conv = NNConv(dim, dim, nn, aggr='mean')\n",
        "        # set2set is used to map from nodes to graphs\n",
        "        self.set2set = Set2Set(dim, processing_steps=3)\n",
        "        self.lin1 = torch.nn.Linear(2 * dim, dim)\n",
        "        self.lin2 = torch.nn.Linear(dim, 1)\n",
        "\n",
        "    def forward(self, data):\n",
        "        # data.x size [batch_num_nodes, num_node_features]\n",
        "        out = F.relu(self.lin0(data.x))\n",
        "        for _ in range(3):\n",
        "            out = F.relu(self.conv(out, data.edge_index))\n",
        "        # [batch_num_nodes, dim] ==> [batch_num_graphs, dim*2]\n",
        "        out = self.set2set(out, data.batch)\n",
        "        out = F.relu(self.lin1(out))\n",
        "        out = self.lin2(out)\n",
        "        return out.view(-1)"
      ]
    },
    {
      "cell_type": "code",
      "execution_count": 4,
      "metadata": {},
      "outputs": [],
      "source": [
        "# load the datasets\n",
        "train_loader = DataLoader(train_data, batch_size=128)\n",
        "validate_loader = DataLoader(validate_data, batch_size=128)\n",
        "test_loader = DataLoader(test_data, batch_size=8)\n",
        "\n",
        "device = torch.device(\"cuda:0\" if torch.cuda.is_available() else \"cpu\")\n",
        "model = Net().to(device)\n",
        "optimizer = torch.optim.Adam(model.parameters(), lr=0.001)"
      ]
    },
    {
      "cell_type": "code",
      "execution_count": 5,
      "metadata": {
        "id": "eumyKXt1-ZOH"
      },
      "outputs": [],
      "source": [
        "criterion = torch.nn.L1Loss()\n",
        "\n",
        "# define training and evaluation functions\n",
        "\n",
        "\n",
        "def train(loader):\n",
        "    \"\"\"Takes in training dataset loader,\n",
        "    train the model one step,\n",
        "    update the parameters,\n",
        "    return the current loss\"\"\"\n",
        "\n",
        "    model.train()\n",
        "\n",
        "    for data in loader:\n",
        "        # move to device\n",
        "        data = data.to(device)\n",
        "        # train model single forward pass\n",
        "        out = model(data)\n",
        "        # calculate loss\n",
        "        loss = criterion(out, data.y)\n",
        "        # gradients\n",
        "        loss.backward()\n",
        "        # optimizer step\n",
        "        optimizer.step()\n",
        "        optimizer.zero_grad()\n",
        "\n",
        "    return loss\n",
        "\n",
        "\n",
        "def eval(loader, model):\n",
        "    \"\"\"Takes the validation dataset loader,\n",
        "    return the validation MAE\"\"\"\n",
        "\n",
        "    model.eval()\n",
        "    for data in loader:\n",
        "        # move to device also\n",
        "        data = data.to(device)\n",
        "        out = model(data)\n",
        "        loss = criterion(out, data.y)\n",
        "        return loss"
      ]
    },
    {
      "cell_type": "code",
      "execution_count": 9,
      "metadata": {
        "id": "kyAA9GLE-ZOJ"
      },
      "outputs": [
        {
          "name": "stdout",
          "output_type": "stream",
          "text": [
            "epoch: 1 -- train_loss: 0.6631304621696472 -- val_loss: 0.7244545221328735\n",
            "epoch: 2 -- train_loss: 0.6483592391014099 -- val_loss: 0.7261666059494019\n",
            "epoch: 3 -- train_loss: 0.651179850101471 -- val_loss: 0.7376712560653687\n",
            "epoch: 4 -- train_loss: 0.6500767469406128 -- val_loss: 0.7195669412612915\n",
            "epoch: 5 -- train_loss: 0.6442870497703552 -- val_loss: 0.7326834201812744\n",
            "epoch: 6 -- train_loss: 0.6446031332015991 -- val_loss: 0.7351908683776855\n",
            "epoch: 7 -- train_loss: 0.635285496711731 -- val_loss: 0.7124953269958496\n",
            "epoch: 8 -- train_loss: 0.6428313255310059 -- val_loss: 0.6985534429550171\n",
            "epoch: 9 -- train_loss: 0.6404388546943665 -- val_loss: 0.7051576972007751\n",
            "epoch: 10 -- train_loss: 0.6398452520370483 -- val_loss: 0.712142825126648\n",
            "epoch: 11 -- train_loss: 0.6435548067092896 -- val_loss: 0.7043825387954712\n",
            "epoch: 12 -- train_loss: 0.6285543441772461 -- val_loss: 0.7187756299972534\n",
            "epoch: 13 -- train_loss: 0.642598032951355 -- val_loss: 0.7424993515014648\n",
            "epoch: 14 -- train_loss: 0.6367324590682983 -- val_loss: 0.7166838645935059\n",
            "epoch: 15 -- train_loss: 0.626541793346405 -- val_loss: 0.7382798790931702\n",
            "epoch: 16 -- train_loss: 0.6466286778450012 -- val_loss: 0.7765570878982544\n",
            "epoch: 17 -- train_loss: 0.6453152894973755 -- val_loss: 0.7569668889045715\n",
            "epoch: 18 -- train_loss: 0.6411478519439697 -- val_loss: 0.765402615070343\n",
            "epoch: 19 -- train_loss: 0.6209660172462463 -- val_loss: 0.7732439041137695\n",
            "epoch: 20 -- train_loss: 0.6270773410797119 -- val_loss: 0.7764126062393188\n",
            "epoch: 21 -- train_loss: 0.6393677592277527 -- val_loss: 0.7474365234375\n",
            "epoch: 22 -- train_loss: 0.6575396060943604 -- val_loss: 0.7821976542472839\n",
            "epoch: 23 -- train_loss: 0.6257186532020569 -- val_loss: 0.7456841468811035\n",
            "epoch: 24 -- train_loss: 0.6307628750801086 -- val_loss: 0.7711517810821533\n",
            "epoch: 25 -- train_loss: 0.6275872588157654 -- val_loss: 0.7669349312782288\n",
            "epoch: 26 -- train_loss: 0.6286289095878601 -- val_loss: 0.7552902698516846\n",
            "epoch: 27 -- train_loss: 0.6146290302276611 -- val_loss: 0.7609726190567017\n",
            "epoch: 28 -- train_loss: 0.6037156581878662 -- val_loss: 0.7618785500526428\n",
            "epoch: 29 -- train_loss: 0.626851499080658 -- val_loss: 0.7576788067817688\n",
            "epoch: 30 -- train_loss: 0.6204127073287964 -- val_loss: 0.7327050566673279\n",
            "epoch: 31 -- train_loss: 0.5907305479049683 -- val_loss: 0.763337254524231\n",
            "epoch: 32 -- train_loss: 0.6134503483772278 -- val_loss: 0.7424365282058716\n",
            "epoch: 33 -- train_loss: 0.5983784198760986 -- val_loss: 0.7345842123031616\n",
            "epoch: 34 -- train_loss: 0.6033157110214233 -- val_loss: 0.7445021271705627\n",
            "epoch: 35 -- train_loss: 0.6293826103210449 -- val_loss: 0.7399226427078247\n",
            "epoch: 36 -- train_loss: 0.601925253868103 -- val_loss: 0.7320548295974731\n",
            "epoch: 37 -- train_loss: 0.6128231287002563 -- val_loss: 0.7426046133041382\n",
            "epoch: 38 -- train_loss: 0.5943453907966614 -- val_loss: 0.7548513412475586\n",
            "epoch: 39 -- train_loss: 0.598257303237915 -- val_loss: 0.7230449914932251\n",
            "epoch: 40 -- train_loss: 0.61248779296875 -- val_loss: 0.7398773431777954\n",
            "epoch: 41 -- train_loss: 0.5892767906188965 -- val_loss: 0.7488965392112732\n",
            "epoch: 42 -- train_loss: 0.6079280376434326 -- val_loss: 0.7235655784606934\n",
            "epoch: 43 -- train_loss: 0.6060740351676941 -- val_loss: 0.7114228010177612\n",
            "epoch: 44 -- train_loss: 0.598481297492981 -- val_loss: 0.7071219682693481\n",
            "epoch: 45 -- train_loss: 0.5908581018447876 -- val_loss: 0.7044416069984436\n",
            "epoch: 46 -- train_loss: 0.6188206076622009 -- val_loss: 0.710066020488739\n",
            "epoch: 47 -- train_loss: 0.6248943209648132 -- val_loss: 0.7254014015197754\n",
            "epoch: 48 -- train_loss: 0.5916388034820557 -- val_loss: 0.7100687623023987\n",
            "epoch: 49 -- train_loss: 0.6096975207328796 -- val_loss: 0.7223215103149414\n",
            "epoch: 50 -- train_loss: 0.6286846399307251 -- val_loss: 0.6956421136856079\n",
            "epoch: 51 -- train_loss: 0.5936543941497803 -- val_loss: 0.7061134576797485\n",
            "epoch: 52 -- train_loss: 0.629578709602356 -- val_loss: 0.6724565029144287\n",
            "epoch: 53 -- train_loss: 0.5868880748748779 -- val_loss: 0.682631254196167\n",
            "epoch: 54 -- train_loss: 0.602006196975708 -- val_loss: 0.7135645151138306\n",
            "epoch: 55 -- train_loss: 0.597884476184845 -- val_loss: 0.6743043065071106\n",
            "epoch: 56 -- train_loss: 0.6293056607246399 -- val_loss: 0.7069487571716309\n",
            "epoch: 57 -- train_loss: 0.6044797897338867 -- val_loss: 0.710159182548523\n",
            "epoch: 58 -- train_loss: 0.6193841695785522 -- val_loss: 0.7175941467285156\n",
            "epoch: 59 -- train_loss: 0.6040458083152771 -- val_loss: 0.7275336980819702\n",
            "epoch: 60 -- train_loss: 0.5966665744781494 -- val_loss: 0.7326217889785767\n",
            "epoch: 61 -- train_loss: 0.6177107095718384 -- val_loss: 0.6819512844085693\n",
            "epoch: 62 -- train_loss: 0.61504065990448 -- val_loss: 0.6869750022888184\n",
            "epoch: 63 -- train_loss: 0.6049346923828125 -- val_loss: 0.7120056748390198\n",
            "epoch: 64 -- train_loss: 0.5943259000778198 -- val_loss: 0.7238479852676392\n",
            "epoch: 65 -- train_loss: 0.5801255106925964 -- val_loss: 0.71347576379776\n",
            "epoch: 66 -- train_loss: 0.5735264420509338 -- val_loss: 0.6987862586975098\n",
            "epoch: 67 -- train_loss: 0.5735787153244019 -- val_loss: 0.7180122137069702\n",
            "epoch: 68 -- train_loss: 0.5676295757293701 -- val_loss: 0.6890544891357422\n",
            "epoch: 69 -- train_loss: 0.5658714175224304 -- val_loss: 0.7275186777114868\n",
            "epoch: 70 -- train_loss: 0.5816583633422852 -- val_loss: 0.7207915782928467\n",
            "epoch: 71 -- train_loss: 0.5655831694602966 -- val_loss: 0.7033956050872803\n",
            "epoch: 72 -- train_loss: 0.5819858312606812 -- val_loss: 0.7221536636352539\n",
            "epoch: 73 -- train_loss: 0.5716083645820618 -- val_loss: 0.7172756195068359\n",
            "epoch: 74 -- train_loss: 0.5590367913246155 -- val_loss: 0.6854777932167053\n",
            "epoch: 75 -- train_loss: 0.5871741771697998 -- val_loss: 0.659903883934021\n",
            "epoch: 76 -- train_loss: 0.5678101181983948 -- val_loss: 0.6871508359909058\n",
            "epoch: 77 -- train_loss: 0.5649187564849854 -- val_loss: 0.7015635371208191\n",
            "epoch: 78 -- train_loss: 0.5826143026351929 -- val_loss: 0.6982038021087646\n",
            "epoch: 79 -- train_loss: 0.5819284915924072 -- val_loss: 0.7258222699165344\n"
          ]
        }
      ],
      "source": [
        "# training\n",
        "num_epochs = 80\n",
        "for epoch in range(1, num_epochs):\n",
        "    \"\"\"Calculate loss and\n",
        "    validation MAE\"\"\"\n",
        "    train(train_loader)\n",
        "\n",
        "    train_loss = eval(train_loader, model=model)\n",
        "    val_loss = eval(validate_loader, model=model)\n",
        "    print(\n",
        "        f\"epoch: {epoch} -- train_loss: {train_loss} -- val_loss: {val_loss}\")"
      ]
    },
    {
      "cell_type": "code",
      "execution_count": 7,
      "metadata": {
        "id": "ykihqvj1-ZOK"
      },
      "outputs": [],
      "source": [
        "# predict\n",
        "model.eval()\n",
        "y_pred = []\n",
        "Idx = []\n",
        "\n",
        "with torch.no_grad():\n",
        "    for data in test_loader:\n",
        "        \"\"\"Predict and save graph index and\n",
        "        predicted y value\"\"\"\n",
        "\n",
        "        # send data to device\n",
        "        data = data.to(device)\n",
        "\n",
        "        # get preds\n",
        "        pred = model(data)\n",
        "\n",
        "        # move pred back to cpu for numpy/storage\n",
        "        pred = pred.detach().cpu().numpy()\n",
        "\n",
        "        # add pred to y_pred\n",
        "        y_pred.extend(pred)\n",
        "\n",
        "        # get graph indecies\n",
        "        Idx.extend([data_item.name for data_item in data.to_data_list()])\n",
        "\n",
        "assert (len(Idx) == len(y_pred))\n",
        "\n",
        "df = pd.DataFrame({\"Idx\": Idx, \"labels\": y_pred})"
      ]
    },
    {
      "cell_type": "code",
      "execution_count": 8,
      "metadata": {
        "id": "Ib5a1tFn-ZOK"
      },
      "outputs": [],
      "source": [
        "# upload solution\n",
        "df.columns = ['Idx', 'labels']\n",
        "df.to_csv(\"data/submission1.csv\", index=False)"
      ]
    }
  ],
  "metadata": {
    "colab": {
      "provenance": []
    },
    "kernelspec": {
      "display_name": ".venv",
      "language": "python",
      "name": "python3"
    },
    "language_info": {
      "codemirror_mode": {
        "name": "ipython",
        "version": 3
      },
      "file_extension": ".py",
      "mimetype": "text/x-python",
      "name": "python",
      "nbconvert_exporter": "python",
      "pygments_lexer": "ipython3",
      "version": "3.12.6"
    },
    "orig_nbformat": 4
  },
  "nbformat": 4,
  "nbformat_minor": 0
}
