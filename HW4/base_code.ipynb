{
  "cells": [
    {
      "cell_type": "markdown",
      "metadata": {
        "id": "uRfi_A6L-ZN_"
      },
      "source": [
        "# HW4: Graph Neural Networks\n",
        "\n",
        "* There are two datasets in the `data` folder: `train.pt`, `test.pt`. You will train a GCNN on the train dataset, then make predictions on the test dataset.\n",
        "* There are two parts in this notebook. `Part I` gives a custom `Dataset` object and loads the datasets. The `QM_Dataset` object inherites from torch geometric `Dataset` object. `Part II` is an example solution.\n",
        "* This HW is implemented with [Pytorch Geometric (PyG)](https://pytorch-geometric.readthedocs.io/en/latest/index.html). Another popular library for implementing GNNs is [Deep Graph Library (DGL)](https://www.dgl.ai/)"
      ]
    },
    {
      "cell_type": "code",
      "execution_count": 1,
      "metadata": {
        "colab": {
          "base_uri": "https://localhost:8080/"
        },
        "id": "71pd8cli6mmR",
        "outputId": "81f3a179-6c40-44de-9f56-4fca5aae0039"
      },
      "outputs": [
        {
          "name": "stdout",
          "output_type": "stream",
          "text": [
            "Collecting torch_geometric\n",
            "  Downloading torch_geometric-2.6.1-py3-none-any.whl.metadata (63 kB)\n",
            "\u001b[?25l     \u001b[90m━━━━━━━━━━━━━━━━━━━━━━━━━━━━━━━━━━━━━━━━\u001b[0m \u001b[32m0.0/63.1 kB\u001b[0m \u001b[31m?\u001b[0m eta \u001b[36m-:--:--\u001b[0m\r\u001b[2K     \u001b[91m━━━━━━━━━━━━━━━━━━━━━━━━━━━━━━━━━━━━━━\u001b[0m\u001b[91m╸\u001b[0m\u001b[90m━\u001b[0m \u001b[32m61.4/63.1 kB\u001b[0m \u001b[31m2.3 MB/s\u001b[0m eta \u001b[36m0:00:01\u001b[0m\r\u001b[2K     \u001b[90m━━━━━━━━━━━━━━━━━━━━━━━━━━━━━━━━━━━━━━━━\u001b[0m \u001b[32m63.1/63.1 kB\u001b[0m \u001b[31m976.9 kB/s\u001b[0m eta \u001b[36m0:00:00\u001b[0m\n",
            "\u001b[?25hRequirement already satisfied: aiohttp in /usr/local/lib/python3.11/dist-packages (from torch_geometric) (3.11.15)\n",
            "Requirement already satisfied: fsspec in /usr/local/lib/python3.11/dist-packages (from torch_geometric) (2025.3.2)\n",
            "Requirement already satisfied: jinja2 in /usr/local/lib/python3.11/dist-packages (from torch_geometric) (3.1.6)\n",
            "Requirement already satisfied: numpy in /usr/local/lib/python3.11/dist-packages (from torch_geometric) (2.0.2)\n",
            "Requirement already satisfied: psutil>=5.8.0 in /usr/local/lib/python3.11/dist-packages (from torch_geometric) (5.9.5)\n",
            "Requirement already satisfied: pyparsing in /usr/local/lib/python3.11/dist-packages (from torch_geometric) (3.2.3)\n",
            "Requirement already satisfied: requests in /usr/local/lib/python3.11/dist-packages (from torch_geometric) (2.32.3)\n",
            "Requirement already satisfied: tqdm in /usr/local/lib/python3.11/dist-packages (from torch_geometric) (4.67.1)\n",
            "Requirement already satisfied: aiohappyeyeballs>=2.3.0 in /usr/local/lib/python3.11/dist-packages (from aiohttp->torch_geometric) (2.6.1)\n",
            "Requirement already satisfied: aiosignal>=1.1.2 in /usr/local/lib/python3.11/dist-packages (from aiohttp->torch_geometric) (1.3.2)\n",
            "Requirement already satisfied: attrs>=17.3.0 in /usr/local/lib/python3.11/dist-packages (from aiohttp->torch_geometric) (25.3.0)\n",
            "Requirement already satisfied: frozenlist>=1.1.1 in /usr/local/lib/python3.11/dist-packages (from aiohttp->torch_geometric) (1.5.0)\n",
            "Requirement already satisfied: multidict<7.0,>=4.5 in /usr/local/lib/python3.11/dist-packages (from aiohttp->torch_geometric) (6.2.0)\n",
            "Requirement already satisfied: propcache>=0.2.0 in /usr/local/lib/python3.11/dist-packages (from aiohttp->torch_geometric) (0.3.1)\n",
            "Requirement already satisfied: yarl<2.0,>=1.17.0 in /usr/local/lib/python3.11/dist-packages (from aiohttp->torch_geometric) (1.18.3)\n",
            "Requirement already satisfied: MarkupSafe>=2.0 in /usr/local/lib/python3.11/dist-packages (from jinja2->torch_geometric) (3.0.2)\n",
            "Requirement already satisfied: charset-normalizer<4,>=2 in /usr/local/lib/python3.11/dist-packages (from requests->torch_geometric) (3.4.1)\n",
            "Requirement already satisfied: idna<4,>=2.5 in /usr/local/lib/python3.11/dist-packages (from requests->torch_geometric) (3.10)\n",
            "Requirement already satisfied: urllib3<3,>=1.21.1 in /usr/local/lib/python3.11/dist-packages (from requests->torch_geometric) (2.3.0)\n",
            "Requirement already satisfied: certifi>=2017.4.17 in /usr/local/lib/python3.11/dist-packages (from requests->torch_geometric) (2025.1.31)\n",
            "Downloading torch_geometric-2.6.1-py3-none-any.whl (1.1 MB)\n",
            "\u001b[2K   \u001b[90m━━━━━━━━━━━━━━━━━━━━━━━━━━━━━━━━━━━━━━━━\u001b[0m \u001b[32m1.1/1.1 MB\u001b[0m \u001b[31m14.2 MB/s\u001b[0m eta \u001b[36m0:00:00\u001b[0m\n",
            "\u001b[?25hInstalling collected packages: torch_geometric\n",
            "Successfully installed torch_geometric-2.6.1\n"
          ]
        }
      ],
      "source": [
        "!pip install torch_geometric"
      ]
    },
    {
      "cell_type": "code",
      "execution_count": 2,
      "metadata": {
        "id": "6z5zXzc2-ZOD"
      },
      "outputs": [],
      "source": [
        "import pandas as pd\n",
        "import torch\n",
        "import torch.nn.functional as F\n",
        "from torch.nn import Linear, ReLU, Sequential\n",
        "from torch_geometric.data import Dataset\n",
        "from torch_geometric.loader import DataLoader"
      ]
    },
    {
      "cell_type": "code",
      "execution_count": null,
      "metadata": {
        "id": "KlnhZwRa6iZP"
      },
      "outputs": [],
      "source": [
        "# only on google colab\n",
        "\n",
        "from google.colab import drive\n",
        "drive.mount('/content/drive')"
      ]
    },
    {
      "cell_type": "markdown",
      "metadata": {
        "id": "JrdqqRyp-ZOE"
      },
      "source": [
        "## Part I. The training and testing dataset are provided\n",
        "\n",
        "- The train and test datasets were pre-processed graphs. The train dataset contains 20,000 graphs, while the test dataset contains 2,000 graphs.\n",
        "- Each graph contains the following components:\n",
        "\n",
        "    - `x`, the matrix containing node features, `[num_of_nodes, num_node_features=11]`\n",
        "    - `edge_index`, the matrix containing connection information about different nodes, `[2, num_of_edges]`\n",
        "    - `y`, the label for the graph, `scaler`. The value is set to `0` in the test dataset\n",
        "    - `pos`, the matrix containing the node positions, `[num_of_nodes, 3]`\n",
        "    - `edge_attr`, the matrix containing the edge information, `[num_edges, 4]`\n",
        "    - `names`, index for the graph. For example, `gdb_59377`\n",
        "\n",
        "- Depending on the graph convolutional layer that is used, different components are needed. For the most basic application, `x`, `edge_index` and `y` will be used.\n"
      ]
    },
    {
      "cell_type": "code",
      "execution_count": null,
      "metadata": {
        "id": "4uVaHtpZ8nwV"
      },
      "outputs": [],
      "source": [
        "class QM_Dataset(Dataset):\n",
        "    def __init__(self, path):\n",
        "        super().__init__(root=\".\")\n",
        "        self.data = torch.load(path)\n",
        "\n",
        "    def len(self):\n",
        "        return len(self.data)\n",
        "\n",
        "    def get(self, idx):\n",
        "        return self.data[idx]\n",
        "\n",
        "train_path = \".........../data/train.pt\"\n",
        "test_path = \".........../data/test.pt\"\n",
        "\n",
        "train_data_ = QM_Dataset(train_path)\n",
        "\n",
        "# train dataset can be split for validation purposes\n",
        "train_data, validate_data = torch.utils.data.random_split(train_data_, [19000, 1000])\n",
        "test_data = QM_Dataset(test_path)"
      ]
    },
    {
      "cell_type": "markdown",
      "metadata": {
        "id": "PMYYRRR0-ZOG"
      },
      "source": [
        "## Part II. Example solution"
      ]
    },
    {
      "cell_type": "code",
      "execution_count": null,
      "metadata": {
        "id": "uPg-AIWd-ZOG"
      },
      "outputs": [],
      "source": [
        "# define the network\n",
        "# many convolutional layers are available in torch_geometric.nn\n",
        "# here NNConv is just used as an example\n",
        "\n",
        "from torch_geometric.nn import NNConv, Set2Set\n",
        "\n",
        "class Net(torch.nn.Module):\n",
        "    def __init__(self, num_features=11, dim=64):\n",
        "        super().__init__()\n",
        "        self.lin0 = torch.nn.Linear(num_features, dim)\n",
        "        nn = Sequential(Linear(4, 128), ReLU(), Linear(128, dim * dim))\n",
        "        self.conv = NNConv(dim, dim, nn, aggr='mean')      # replace with your own convolutional layers here\n",
        "        self.set2set = Set2Set(dim, processing_steps=3)    # set2set is used to map from nodes to graphs\n",
        "        self.lin1 = torch.nn.Linear(2 * dim, dim)\n",
        "        self.lin2 = torch.nn.Linear(dim, 1)\n",
        "\n",
        "    def forward(self, data):\n",
        "        out = F.relu(self.lin0(data.x))                    #data.x size [batch_num_nodes, num_node_features]\n",
        "        for _ in range(3):\n",
        "            out = F.relu(self.conv(out, data.edge_index, data.edge_attr))\n",
        "        out = self.set2set(out, data.batch)                #[batch_num_nodes, dim] ==> [batch_num_graphs, dim*2]\n",
        "        out = F.relu(self.lin1(out))\n",
        "        out = self.lin2(out)\n",
        "        return out.view(-1)"
      ]
    },
    {
      "cell_type": "code",
      "execution_count": null,
      "metadata": {
        "id": "eumyKXt1-ZOH"
      },
      "outputs": [],
      "source": [
        "# define training and evaluation functions\n",
        "def train(loader):\n",
        "    \"\"\"Takes in training dataset loader,\n",
        "    train the model one step,\n",
        "    update the parameters,\n",
        "    return the current loss\"\"\"\n",
        "\n",
        "def eval(loader):\n",
        "    \"\"\"Takes the validation dataset loader,\n",
        "    return the validation MAE\"\"\""
      ]
    },
    {
      "cell_type": "code",
      "execution_count": null,
      "metadata": {
        "id": "29AeJ7Q6-ZOI"
      },
      "outputs": [],
      "source": [
        "# load the datasets\n",
        "train_loader = DataLoader(train_data, batch_size=128)\n",
        "validate_loader = DataLoader(validate_data, batch_size=128)\n",
        "test_loader = DataLoader(test_data, batch_size=8)\n",
        "\n",
        "device = torch.device(\"cuda:0\" if torch.cuda.is_available() else \"cpu\")\n",
        "model = Net().to(device)\n",
        "optimizer = torch.optim.Adam(model.parameters(), lr=0.00005)"
      ]
    },
    {
      "cell_type": "code",
      "execution_count": null,
      "metadata": {
        "id": "kyAA9GLE-ZOJ"
      },
      "outputs": [],
      "source": [
        "# training\n",
        "num_epochs=100\n",
        "for epoch in range(1, num_epochs):\n",
        "    \"\"\"Calculate loss and\n",
        "    validation MAE\"\"\""
      ]
    },
    {
      "cell_type": "code",
      "execution_count": null,
      "metadata": {
        "id": "ykihqvj1-ZOK"
      },
      "outputs": [],
      "source": [
        "# predict\n",
        "model.eval()\n",
        "y_pred = []\n",
        "Idx = []\n",
        "for data in test_loader:\n",
        "    \"\"\"Predict and save graph index and\n",
        "    predicted y value\"\"\"\n",
        "\n",
        "assert(len(Names) == len(Ys))\n",
        "df = pd.DataFrame({\"Idx\": Idx, \"labels\": y_pred})"
      ]
    },
    {
      "cell_type": "code",
      "execution_count": null,
      "metadata": {
        "id": "Ib5a1tFn-ZOK"
      },
      "outputs": [],
      "source": [
        "# upload solution\n",
        "df.columns = ['Idx', 'labels']\n",
        "df.to_csv(\".........../data/submission1.csv\", index=False)"
      ]
    }
  ],
  "metadata": {
    "colab": {
      "provenance": []
    },
    "kernelspec": {
      "display_name": ".venv",
      "language": "python",
      "name": "python3"
    },
    "language_info": {
      "codemirror_mode": {
        "name": "ipython",
        "version": 3
      },
      "file_extension": ".py",
      "mimetype": "text/x-python",
      "name": "python",
      "nbconvert_exporter": "python",
      "pygments_lexer": "ipython3",
      "version": "3.12.6"
    },
    "orig_nbformat": 4
  },
  "nbformat": 4,
  "nbformat_minor": 0
}
